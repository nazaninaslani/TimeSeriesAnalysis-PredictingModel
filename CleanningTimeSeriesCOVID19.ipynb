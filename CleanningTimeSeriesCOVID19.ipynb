{
  "nbformat": 4,
  "nbformat_minor": 0,
  "metadata": {
    "colab": {
      "name": "CleanningTimeSeriesCOVID19.ipynb",
      "provenance": [],
      "authorship_tag": "ABX9TyOhxmd+8Aofin5uKcEwCouE",
      "include_colab_link": true
    },
    "kernelspec": {
      "name": "python3",
      "display_name": "Python 3"
    }
  },
  "cells": [
    {
      "cell_type": "markdown",
      "metadata": {
        "id": "view-in-github",
        "colab_type": "text"
      },
      "source": [
        "<a href=\"https://colab.research.google.com/github/nazaninaslani/TimeSeriesAnalysis-PredictingModel/blob/master/CleanningTimeSeriesCOVID19.ipynb\" target=\"_parent\"><img src=\"https://colab.research.google.com/assets/colab-badge.svg\" alt=\"Open In Colab\"/></a>"
      ]
    },
    {
      "cell_type": "code",
      "metadata": {
        "id": "15QvcYQZOYKD",
        "colab_type": "code",
        "colab": {}
      },
      "source": [
        "# Code to read csv file into colaboratory:\n",
        "!pip install -U -q PyDrive\n",
        "from pydrive.auth import GoogleAuth\n",
        "from pydrive.drive import GoogleDrive\n",
        "from google.colab import auth\n",
        "from oauth2client.client import GoogleCredentials"
      ],
      "execution_count": 117,
      "outputs": []
    },
    {
      "cell_type": "code",
      "metadata": {
        "id": "HH5xHuTiOfe-",
        "colab_type": "code",
        "colab": {}
      },
      "source": [
        "auth.authenticate_user()\n",
        "gauth = GoogleAuth()\n",
        "gauth.credentials = GoogleCredentials.get_application_default()\n",
        "drive = GoogleDrive(gauth)"
      ],
      "execution_count": 118,
      "outputs": []
    },
    {
      "cell_type": "code",
      "metadata": {
        "id": "IJ051xzCOnCc",
        "colab_type": "code",
        "colab": {}
      },
      "source": [
        "#time_series_covid19_recovered_global\n",
        "downloaded = drive.CreateFile({'id':'1Bnatcc4whwprOVMGgrvHvnf4x_o9TIEE'}) \n",
        "downloaded.GetContentFile('time_series_covid19_recovered_global.csv')"
      ],
      "execution_count": 119,
      "outputs": []
    },
    {
      "cell_type": "code",
      "metadata": {
        "id": "hRY6PBdOO0CD",
        "colab_type": "code",
        "colab": {}
      },
      "source": [
        "#time_series_covid19_deaths_global\n",
        "downloaded = drive.CreateFile({'id':'1Ltzi51t5Vg5DelP20KiuiwqLIZ3gKPZp'}) \n",
        "downloaded.GetContentFile('time_series_covid19_deaths_global.csv')"
      ],
      "execution_count": 120,
      "outputs": []
    },
    {
      "cell_type": "code",
      "metadata": {
        "id": "ZqUFDfRMO5nf",
        "colab_type": "code",
        "colab": {}
      },
      "source": [
        "#time_series_covid19_deaths_US\n",
        "downloaded = drive.CreateFile({'id':'1An479yRn6d4SgGjkfE6rYqe0OYXUDUxJ'})\n",
        "downloaded.GetContentFile('time_series_covid19_deaths_US.csv')"
      ],
      "execution_count": 121,
      "outputs": []
    },
    {
      "cell_type": "code",
      "metadata": {
        "id": "QbS87AnJO9cI",
        "colab_type": "code",
        "colab": {}
      },
      "source": [
        "#time_series_covid19_confirmed_global\n",
        "downloaded = drive.CreateFile({'id':'1SZxipnNzqisnmSjwnwf34ZABq_uxw6iT'}) \n",
        "downloaded.GetContentFile('time_series_covid19_confirmed_global.csv')"
      ],
      "execution_count": 122,
      "outputs": []
    },
    {
      "cell_type": "code",
      "metadata": {
        "id": "gnOjjywoPBWN",
        "colab_type": "code",
        "colab": {}
      },
      "source": [
        "#time_series_covid19_confirmed_US\n",
        "downloaded = drive.CreateFile({'id':'1M-5PhDNIYguXSA-Gzl0uMSdCPZpx7lN5'}) \n",
        "downloaded.GetContentFile('time_series_covid19_confirmed_US.csv')"
      ],
      "execution_count": 123,
      "outputs": []
    },
    {
      "cell_type": "code",
      "metadata": {
        "id": "TAwjk_o5M3zp",
        "colab_type": "code",
        "colab": {}
      },
      "source": [
        "import os"
      ],
      "execution_count": 124,
      "outputs": []
    },
    {
      "cell_type": "code",
      "metadata": {
        "id": "jYS41bOwOFCg",
        "colab_type": "code",
        "colab": {}
      },
      "source": [
        "import numpy as np\n",
        "import pandas as pd\n",
        "from matplotlib import pyplot as plt\n",
        "import seaborn as sns\n",
        "from sklearn.linear_model import LinearRegression\n",
        "from sklearn.tree import DecisionTreeClassifier\n",
        "from sklearn.model_selection import train_test_split\n",
        "from sklearn.metrics import r2_score, explained_variance_score, mean_absolute_error, mean_squared_error\n",
        "from math import sqrt\n",
        "from datetime import datetime\n",
        "import random\n",
        "%matplotlib inline"
      ],
      "execution_count": 125,
      "outputs": []
    },
    {
      "cell_type": "code",
      "metadata": {
        "id": "MKwat5LiSIKb",
        "colab_type": "code",
        "colab": {}
      },
      "source": [
        "#to change scientific numbers to float\n",
        "np.set_printoptions(formatter={'float_kind':'(:f)'.format})"
      ],
      "execution_count": 126,
      "outputs": []
    },
    {
      "cell_type": "code",
      "metadata": {
        "id": "gp_vTHwlUIwo",
        "colab_type": "code",
        "colab": {}
      },
      "source": [
        "#increase the size of sns plots\n",
        "sns.set(rc={'figure.figsize':(12,10)})"
      ],
      "execution_count": 127,
      "outputs": []
    },
    {
      "cell_type": "code",
      "metadata": {
        "id": "c6CiEXQaUirW",
        "colab_type": "code",
        "colab": {}
      },
      "source": [
        "#import sys\n",
        "# see all the rows/columns\n",
        "pd.set_option('display.max_rows', 500)\n",
        "pd.set_option('display.max_columns', 500)\n",
        "pd.set_option('display.width', 1000)"
      ],
      "execution_count": 128,
      "outputs": []
    },
    {
      "cell_type": "code",
      "metadata": {
        "id": "xvtqSZ2-VIrE",
        "colab_type": "code",
        "colab": {}
      },
      "source": [
        "#loading the cumulative raw data\n",
        "raw_data_confirmed = pd.read_csv('time_series_covid19_confirmed_global.csv')\n",
        "raw_data_deaths = pd.read_csv('time_series_covid19_deaths_global.csv')\n",
        "raw_data_Recovered = pd.read_csv('time_series_covid19_recovered_global.csv')\n",
        "raw_data_confirm_US = pd.read_csv('time_series_covid19_confirmed_US.csv')\n",
        "raw_data_deaths_US = pd.read_csv('time_series_covid19_deaths_US.csv')"
      ],
      "execution_count": 129,
      "outputs": []
    },
    {
      "cell_type": "code",
      "metadata": {
        "id": "HQFqUd_wX7sR",
        "colab_type": "code",
        "colab": {
          "base_uri": "https://localhost:8080/",
          "height": 101
        },
        "outputId": "4e990323-e212-4b73-901f-cbfc49692c9c"
      },
      "source": [
        "print(\"The shape of confirmed is:\", raw_data_confirmed.shape)\n",
        "print(\"The shape of Death is:\", raw_data_deaths.shape)\n",
        "print(\"The shape of Recovered is:\", raw_data_Recovered.shape)\n",
        "print(\"The shape of Confirmed US is:\", raw_data_confirm_US.shape)\n",
        "print(\"The shape of Death US is:\", raw_data_deaths_US.shape)"
      ],
      "execution_count": 130,
      "outputs": [
        {
          "output_type": "stream",
          "text": [
            "The shape of confirmed is: (266, 163)\n",
            "The shape of Death is: (266, 163)\n",
            "The shape of Recovered is: (253, 163)\n",
            "The shape of Confirmed US is: (3261, 170)\n",
            "The shape of Death US is: (3261, 171)\n"
          ],
          "name": "stdout"
        }
      ]
    },
    {
      "cell_type": "code",
      "metadata": {
        "id": "vO2GOU1FkT0Z",
        "colab_type": "code",
        "colab": {
          "base_uri": "https://localhost:8080/",
          "height": 215
        },
        "outputId": "f85f7056-b1bf-4acf-a856-f9f80887d074"
      },
      "source": [
        "raw_data_confirmed.head()"
      ],
      "execution_count": 131,
      "outputs": [
        {
          "output_type": "execute_result",
          "data": {
            "text/html": [
              "<div>\n",
              "<style scoped>\n",
              "    .dataframe tbody tr th:only-of-type {\n",
              "        vertical-align: middle;\n",
              "    }\n",
              "\n",
              "    .dataframe tbody tr th {\n",
              "        vertical-align: top;\n",
              "    }\n",
              "\n",
              "    .dataframe thead th {\n",
              "        text-align: right;\n",
              "    }\n",
              "</style>\n",
              "<table border=\"1\" class=\"dataframe\">\n",
              "  <thead>\n",
              "    <tr style=\"text-align: right;\">\n",
              "      <th></th>\n",
              "      <th>Province/State</th>\n",
              "      <th>Country/Region</th>\n",
              "      <th>Lat</th>\n",
              "      <th>Long</th>\n",
              "      <th>1/22/20</th>\n",
              "      <th>1/23/20</th>\n",
              "      <th>1/24/20</th>\n",
              "      <th>1/25/20</th>\n",
              "      <th>1/26/20</th>\n",
              "      <th>1/27/20</th>\n",
              "      <th>1/28/20</th>\n",
              "      <th>1/29/20</th>\n",
              "      <th>1/30/20</th>\n",
              "      <th>1/31/20</th>\n",
              "      <th>2/1/20</th>\n",
              "      <th>2/2/20</th>\n",
              "      <th>2/3/20</th>\n",
              "      <th>2/4/20</th>\n",
              "      <th>2/5/20</th>\n",
              "      <th>2/6/20</th>\n",
              "      <th>2/7/20</th>\n",
              "      <th>2/8/20</th>\n",
              "      <th>2/9/20</th>\n",
              "      <th>2/10/20</th>\n",
              "      <th>2/11/20</th>\n",
              "      <th>2/12/20</th>\n",
              "      <th>2/13/20</th>\n",
              "      <th>2/14/20</th>\n",
              "      <th>2/15/20</th>\n",
              "      <th>2/16/20</th>\n",
              "      <th>2/17/20</th>\n",
              "      <th>2/18/20</th>\n",
              "      <th>2/19/20</th>\n",
              "      <th>2/20/20</th>\n",
              "      <th>2/21/20</th>\n",
              "      <th>2/22/20</th>\n",
              "      <th>2/23/20</th>\n",
              "      <th>2/24/20</th>\n",
              "      <th>2/25/20</th>\n",
              "      <th>2/26/20</th>\n",
              "      <th>2/27/20</th>\n",
              "      <th>2/28/20</th>\n",
              "      <th>2/29/20</th>\n",
              "      <th>3/1/20</th>\n",
              "      <th>3/2/20</th>\n",
              "      <th>3/3/20</th>\n",
              "      <th>3/4/20</th>\n",
              "      <th>3/5/20</th>\n",
              "      <th>3/6/20</th>\n",
              "      <th>3/7/20</th>\n",
              "      <th>3/8/20</th>\n",
              "      <th>3/9/20</th>\n",
              "      <th>3/10/20</th>\n",
              "      <th>3/11/20</th>\n",
              "      <th>3/12/20</th>\n",
              "      <th>3/13/20</th>\n",
              "      <th>3/14/20</th>\n",
              "      <th>3/15/20</th>\n",
              "      <th>3/16/20</th>\n",
              "      <th>3/17/20</th>\n",
              "      <th>3/18/20</th>\n",
              "      <th>3/19/20</th>\n",
              "      <th>3/20/20</th>\n",
              "      <th>3/21/20</th>\n",
              "      <th>3/22/20</th>\n",
              "      <th>3/23/20</th>\n",
              "      <th>3/24/20</th>\n",
              "      <th>3/25/20</th>\n",
              "      <th>3/26/20</th>\n",
              "      <th>3/27/20</th>\n",
              "      <th>3/28/20</th>\n",
              "      <th>3/29/20</th>\n",
              "      <th>3/30/20</th>\n",
              "      <th>3/31/20</th>\n",
              "      <th>4/1/20</th>\n",
              "      <th>4/2/20</th>\n",
              "      <th>4/3/20</th>\n",
              "      <th>4/4/20</th>\n",
              "      <th>4/5/20</th>\n",
              "      <th>4/6/20</th>\n",
              "      <th>4/7/20</th>\n",
              "      <th>4/8/20</th>\n",
              "      <th>4/9/20</th>\n",
              "      <th>4/10/20</th>\n",
              "      <th>4/11/20</th>\n",
              "      <th>4/12/20</th>\n",
              "      <th>4/13/20</th>\n",
              "      <th>4/14/20</th>\n",
              "      <th>4/15/20</th>\n",
              "      <th>4/16/20</th>\n",
              "      <th>4/17/20</th>\n",
              "      <th>4/18/20</th>\n",
              "      <th>4/19/20</th>\n",
              "      <th>4/20/20</th>\n",
              "      <th>4/21/20</th>\n",
              "      <th>4/22/20</th>\n",
              "      <th>4/23/20</th>\n",
              "      <th>4/24/20</th>\n",
              "      <th>4/25/20</th>\n",
              "      <th>4/26/20</th>\n",
              "      <th>4/27/20</th>\n",
              "      <th>4/28/20</th>\n",
              "      <th>4/29/20</th>\n",
              "      <th>4/30/20</th>\n",
              "      <th>5/1/20</th>\n",
              "      <th>5/2/20</th>\n",
              "      <th>5/3/20</th>\n",
              "      <th>5/4/20</th>\n",
              "      <th>5/5/20</th>\n",
              "      <th>5/6/20</th>\n",
              "      <th>5/7/20</th>\n",
              "      <th>5/8/20</th>\n",
              "      <th>5/9/20</th>\n",
              "      <th>5/10/20</th>\n",
              "      <th>5/11/20</th>\n",
              "      <th>5/12/20</th>\n",
              "      <th>5/13/20</th>\n",
              "      <th>5/14/20</th>\n",
              "      <th>5/15/20</th>\n",
              "      <th>5/16/20</th>\n",
              "      <th>5/17/20</th>\n",
              "      <th>5/18/20</th>\n",
              "      <th>5/19/20</th>\n",
              "      <th>5/20/20</th>\n",
              "      <th>5/21/20</th>\n",
              "      <th>5/22/20</th>\n",
              "      <th>5/23/20</th>\n",
              "      <th>5/24/20</th>\n",
              "      <th>5/25/20</th>\n",
              "      <th>5/26/20</th>\n",
              "      <th>5/27/20</th>\n",
              "      <th>5/28/20</th>\n",
              "      <th>5/29/20</th>\n",
              "      <th>5/30/20</th>\n",
              "      <th>5/31/20</th>\n",
              "      <th>6/1/20</th>\n",
              "      <th>6/2/20</th>\n",
              "      <th>6/3/20</th>\n",
              "      <th>6/4/20</th>\n",
              "      <th>6/5/20</th>\n",
              "      <th>6/6/20</th>\n",
              "      <th>6/7/20</th>\n",
              "      <th>6/8/20</th>\n",
              "      <th>6/9/20</th>\n",
              "      <th>6/10/20</th>\n",
              "      <th>6/11/20</th>\n",
              "      <th>6/12/20</th>\n",
              "      <th>6/13/20</th>\n",
              "      <th>6/14/20</th>\n",
              "      <th>6/15/20</th>\n",
              "      <th>6/16/20</th>\n",
              "      <th>6/17/20</th>\n",
              "      <th>6/18/20</th>\n",
              "      <th>6/19/20</th>\n",
              "      <th>6/20/20</th>\n",
              "      <th>6/21/20</th>\n",
              "      <th>6/22/20</th>\n",
              "      <th>6/23/20</th>\n",
              "      <th>6/24/20</th>\n",
              "      <th>6/25/20</th>\n",
              "      <th>6/26/20</th>\n",
              "      <th>6/27/20</th>\n",
              "      <th>6/28/20</th>\n",
              "    </tr>\n",
              "  </thead>\n",
              "  <tbody>\n",
              "    <tr>\n",
              "      <th>0</th>\n",
              "      <td>NaN</td>\n",
              "      <td>Afghanistan</td>\n",
              "      <td>33.0000</td>\n",
              "      <td>65.0000</td>\n",
              "      <td>0</td>\n",
              "      <td>0</td>\n",
              "      <td>0</td>\n",
              "      <td>0</td>\n",
              "      <td>0</td>\n",
              "      <td>0</td>\n",
              "      <td>0</td>\n",
              "      <td>0</td>\n",
              "      <td>0</td>\n",
              "      <td>0</td>\n",
              "      <td>0</td>\n",
              "      <td>0</td>\n",
              "      <td>0</td>\n",
              "      <td>0</td>\n",
              "      <td>0</td>\n",
              "      <td>0</td>\n",
              "      <td>0</td>\n",
              "      <td>0</td>\n",
              "      <td>0</td>\n",
              "      <td>0</td>\n",
              "      <td>0</td>\n",
              "      <td>0</td>\n",
              "      <td>0</td>\n",
              "      <td>0</td>\n",
              "      <td>0</td>\n",
              "      <td>0</td>\n",
              "      <td>0</td>\n",
              "      <td>0</td>\n",
              "      <td>0</td>\n",
              "      <td>0</td>\n",
              "      <td>0</td>\n",
              "      <td>0</td>\n",
              "      <td>0</td>\n",
              "      <td>1</td>\n",
              "      <td>1</td>\n",
              "      <td>1</td>\n",
              "      <td>1</td>\n",
              "      <td>1</td>\n",
              "      <td>1</td>\n",
              "      <td>1</td>\n",
              "      <td>1</td>\n",
              "      <td>1</td>\n",
              "      <td>1</td>\n",
              "      <td>1</td>\n",
              "      <td>1</td>\n",
              "      <td>1</td>\n",
              "      <td>4</td>\n",
              "      <td>4</td>\n",
              "      <td>5</td>\n",
              "      <td>7</td>\n",
              "      <td>7</td>\n",
              "      <td>7</td>\n",
              "      <td>11</td>\n",
              "      <td>16</td>\n",
              "      <td>21</td>\n",
              "      <td>22</td>\n",
              "      <td>22</td>\n",
              "      <td>22</td>\n",
              "      <td>24</td>\n",
              "      <td>24</td>\n",
              "      <td>40</td>\n",
              "      <td>40</td>\n",
              "      <td>74</td>\n",
              "      <td>84</td>\n",
              "      <td>94</td>\n",
              "      <td>110</td>\n",
              "      <td>110</td>\n",
              "      <td>120</td>\n",
              "      <td>170</td>\n",
              "      <td>174</td>\n",
              "      <td>237</td>\n",
              "      <td>273</td>\n",
              "      <td>281</td>\n",
              "      <td>299</td>\n",
              "      <td>349</td>\n",
              "      <td>367</td>\n",
              "      <td>423</td>\n",
              "      <td>444</td>\n",
              "      <td>484</td>\n",
              "      <td>521</td>\n",
              "      <td>555</td>\n",
              "      <td>607</td>\n",
              "      <td>665</td>\n",
              "      <td>714</td>\n",
              "      <td>784</td>\n",
              "      <td>840</td>\n",
              "      <td>906</td>\n",
              "      <td>933</td>\n",
              "      <td>996</td>\n",
              "      <td>1026</td>\n",
              "      <td>1092</td>\n",
              "      <td>1176</td>\n",
              "      <td>1279</td>\n",
              "      <td>1351</td>\n",
              "      <td>1463</td>\n",
              "      <td>1531</td>\n",
              "      <td>1703</td>\n",
              "      <td>1828</td>\n",
              "      <td>1939</td>\n",
              "      <td>2171</td>\n",
              "      <td>2335</td>\n",
              "      <td>2469</td>\n",
              "      <td>2704</td>\n",
              "      <td>2894</td>\n",
              "      <td>3224</td>\n",
              "      <td>3392</td>\n",
              "      <td>3563</td>\n",
              "      <td>3778</td>\n",
              "      <td>4033</td>\n",
              "      <td>4402</td>\n",
              "      <td>4687</td>\n",
              "      <td>4963</td>\n",
              "      <td>5226</td>\n",
              "      <td>5639</td>\n",
              "      <td>6053</td>\n",
              "      <td>6402</td>\n",
              "      <td>6664</td>\n",
              "      <td>7072</td>\n",
              "      <td>7653</td>\n",
              "      <td>8145</td>\n",
              "      <td>8676</td>\n",
              "      <td>9216</td>\n",
              "      <td>9998</td>\n",
              "      <td>10582</td>\n",
              "      <td>11173</td>\n",
              "      <td>11831</td>\n",
              "      <td>12456</td>\n",
              "      <td>13036</td>\n",
              "      <td>13659</td>\n",
              "      <td>14525</td>\n",
              "      <td>15205</td>\n",
              "      <td>15750</td>\n",
              "      <td>16509</td>\n",
              "      <td>17267</td>\n",
              "      <td>18054</td>\n",
              "      <td>18969</td>\n",
              "      <td>19551</td>\n",
              "      <td>20342</td>\n",
              "      <td>20917</td>\n",
              "      <td>21459</td>\n",
              "      <td>22142</td>\n",
              "      <td>22890</td>\n",
              "      <td>23546</td>\n",
              "      <td>24102</td>\n",
              "      <td>24766</td>\n",
              "      <td>25527</td>\n",
              "      <td>26310</td>\n",
              "      <td>26874</td>\n",
              "      <td>27532</td>\n",
              "      <td>27878</td>\n",
              "      <td>28424</td>\n",
              "      <td>28833</td>\n",
              "      <td>29157</td>\n",
              "      <td>29481</td>\n",
              "      <td>29640</td>\n",
              "      <td>30175</td>\n",
              "      <td>30451</td>\n",
              "      <td>30616</td>\n",
              "      <td>30967</td>\n",
              "    </tr>\n",
              "    <tr>\n",
              "      <th>1</th>\n",
              "      <td>NaN</td>\n",
              "      <td>Albania</td>\n",
              "      <td>41.1533</td>\n",
              "      <td>20.1683</td>\n",
              "      <td>0</td>\n",
              "      <td>0</td>\n",
              "      <td>0</td>\n",
              "      <td>0</td>\n",
              "      <td>0</td>\n",
              "      <td>0</td>\n",
              "      <td>0</td>\n",
              "      <td>0</td>\n",
              "      <td>0</td>\n",
              "      <td>0</td>\n",
              "      <td>0</td>\n",
              "      <td>0</td>\n",
              "      <td>0</td>\n",
              "      <td>0</td>\n",
              "      <td>0</td>\n",
              "      <td>0</td>\n",
              "      <td>0</td>\n",
              "      <td>0</td>\n",
              "      <td>0</td>\n",
              "      <td>0</td>\n",
              "      <td>0</td>\n",
              "      <td>0</td>\n",
              "      <td>0</td>\n",
              "      <td>0</td>\n",
              "      <td>0</td>\n",
              "      <td>0</td>\n",
              "      <td>0</td>\n",
              "      <td>0</td>\n",
              "      <td>0</td>\n",
              "      <td>0</td>\n",
              "      <td>0</td>\n",
              "      <td>0</td>\n",
              "      <td>0</td>\n",
              "      <td>0</td>\n",
              "      <td>0</td>\n",
              "      <td>0</td>\n",
              "      <td>0</td>\n",
              "      <td>0</td>\n",
              "      <td>0</td>\n",
              "      <td>0</td>\n",
              "      <td>0</td>\n",
              "      <td>0</td>\n",
              "      <td>0</td>\n",
              "      <td>0</td>\n",
              "      <td>0</td>\n",
              "      <td>0</td>\n",
              "      <td>0</td>\n",
              "      <td>2</td>\n",
              "      <td>10</td>\n",
              "      <td>12</td>\n",
              "      <td>23</td>\n",
              "      <td>33</td>\n",
              "      <td>38</td>\n",
              "      <td>42</td>\n",
              "      <td>51</td>\n",
              "      <td>55</td>\n",
              "      <td>59</td>\n",
              "      <td>64</td>\n",
              "      <td>70</td>\n",
              "      <td>76</td>\n",
              "      <td>89</td>\n",
              "      <td>104</td>\n",
              "      <td>123</td>\n",
              "      <td>146</td>\n",
              "      <td>174</td>\n",
              "      <td>186</td>\n",
              "      <td>197</td>\n",
              "      <td>212</td>\n",
              "      <td>223</td>\n",
              "      <td>243</td>\n",
              "      <td>259</td>\n",
              "      <td>277</td>\n",
              "      <td>304</td>\n",
              "      <td>333</td>\n",
              "      <td>361</td>\n",
              "      <td>377</td>\n",
              "      <td>383</td>\n",
              "      <td>400</td>\n",
              "      <td>409</td>\n",
              "      <td>416</td>\n",
              "      <td>433</td>\n",
              "      <td>446</td>\n",
              "      <td>467</td>\n",
              "      <td>475</td>\n",
              "      <td>494</td>\n",
              "      <td>518</td>\n",
              "      <td>539</td>\n",
              "      <td>548</td>\n",
              "      <td>562</td>\n",
              "      <td>584</td>\n",
              "      <td>609</td>\n",
              "      <td>634</td>\n",
              "      <td>663</td>\n",
              "      <td>678</td>\n",
              "      <td>712</td>\n",
              "      <td>726</td>\n",
              "      <td>736</td>\n",
              "      <td>750</td>\n",
              "      <td>766</td>\n",
              "      <td>773</td>\n",
              "      <td>782</td>\n",
              "      <td>789</td>\n",
              "      <td>795</td>\n",
              "      <td>803</td>\n",
              "      <td>820</td>\n",
              "      <td>832</td>\n",
              "      <td>842</td>\n",
              "      <td>850</td>\n",
              "      <td>856</td>\n",
              "      <td>868</td>\n",
              "      <td>872</td>\n",
              "      <td>876</td>\n",
              "      <td>880</td>\n",
              "      <td>898</td>\n",
              "      <td>916</td>\n",
              "      <td>933</td>\n",
              "      <td>946</td>\n",
              "      <td>948</td>\n",
              "      <td>949</td>\n",
              "      <td>964</td>\n",
              "      <td>969</td>\n",
              "      <td>981</td>\n",
              "      <td>989</td>\n",
              "      <td>998</td>\n",
              "      <td>1004</td>\n",
              "      <td>1029</td>\n",
              "      <td>1050</td>\n",
              "      <td>1076</td>\n",
              "      <td>1099</td>\n",
              "      <td>1122</td>\n",
              "      <td>1137</td>\n",
              "      <td>1143</td>\n",
              "      <td>1164</td>\n",
              "      <td>1184</td>\n",
              "      <td>1197</td>\n",
              "      <td>1212</td>\n",
              "      <td>1232</td>\n",
              "      <td>1246</td>\n",
              "      <td>1263</td>\n",
              "      <td>1299</td>\n",
              "      <td>1341</td>\n",
              "      <td>1385</td>\n",
              "      <td>1416</td>\n",
              "      <td>1464</td>\n",
              "      <td>1521</td>\n",
              "      <td>1590</td>\n",
              "      <td>1672</td>\n",
              "      <td>1722</td>\n",
              "      <td>1788</td>\n",
              "      <td>1838</td>\n",
              "      <td>1891</td>\n",
              "      <td>1962</td>\n",
              "      <td>1995</td>\n",
              "      <td>2047</td>\n",
              "      <td>2114</td>\n",
              "      <td>2192</td>\n",
              "      <td>2269</td>\n",
              "      <td>2330</td>\n",
              "      <td>2402</td>\n",
              "    </tr>\n",
              "    <tr>\n",
              "      <th>2</th>\n",
              "      <td>NaN</td>\n",
              "      <td>Algeria</td>\n",
              "      <td>28.0339</td>\n",
              "      <td>1.6596</td>\n",
              "      <td>0</td>\n",
              "      <td>0</td>\n",
              "      <td>0</td>\n",
              "      <td>0</td>\n",
              "      <td>0</td>\n",
              "      <td>0</td>\n",
              "      <td>0</td>\n",
              "      <td>0</td>\n",
              "      <td>0</td>\n",
              "      <td>0</td>\n",
              "      <td>0</td>\n",
              "      <td>0</td>\n",
              "      <td>0</td>\n",
              "      <td>0</td>\n",
              "      <td>0</td>\n",
              "      <td>0</td>\n",
              "      <td>0</td>\n",
              "      <td>0</td>\n",
              "      <td>0</td>\n",
              "      <td>0</td>\n",
              "      <td>0</td>\n",
              "      <td>0</td>\n",
              "      <td>0</td>\n",
              "      <td>0</td>\n",
              "      <td>0</td>\n",
              "      <td>0</td>\n",
              "      <td>0</td>\n",
              "      <td>0</td>\n",
              "      <td>0</td>\n",
              "      <td>0</td>\n",
              "      <td>0</td>\n",
              "      <td>0</td>\n",
              "      <td>0</td>\n",
              "      <td>0</td>\n",
              "      <td>1</td>\n",
              "      <td>1</td>\n",
              "      <td>1</td>\n",
              "      <td>1</td>\n",
              "      <td>1</td>\n",
              "      <td>1</td>\n",
              "      <td>3</td>\n",
              "      <td>5</td>\n",
              "      <td>12</td>\n",
              "      <td>12</td>\n",
              "      <td>17</td>\n",
              "      <td>17</td>\n",
              "      <td>19</td>\n",
              "      <td>20</td>\n",
              "      <td>20</td>\n",
              "      <td>20</td>\n",
              "      <td>24</td>\n",
              "      <td>26</td>\n",
              "      <td>37</td>\n",
              "      <td>48</td>\n",
              "      <td>54</td>\n",
              "      <td>60</td>\n",
              "      <td>74</td>\n",
              "      <td>87</td>\n",
              "      <td>90</td>\n",
              "      <td>139</td>\n",
              "      <td>201</td>\n",
              "      <td>230</td>\n",
              "      <td>264</td>\n",
              "      <td>302</td>\n",
              "      <td>367</td>\n",
              "      <td>409</td>\n",
              "      <td>454</td>\n",
              "      <td>511</td>\n",
              "      <td>584</td>\n",
              "      <td>716</td>\n",
              "      <td>847</td>\n",
              "      <td>986</td>\n",
              "      <td>1171</td>\n",
              "      <td>1251</td>\n",
              "      <td>1320</td>\n",
              "      <td>1423</td>\n",
              "      <td>1468</td>\n",
              "      <td>1572</td>\n",
              "      <td>1666</td>\n",
              "      <td>1761</td>\n",
              "      <td>1825</td>\n",
              "      <td>1914</td>\n",
              "      <td>1983</td>\n",
              "      <td>2070</td>\n",
              "      <td>2160</td>\n",
              "      <td>2268</td>\n",
              "      <td>2418</td>\n",
              "      <td>2534</td>\n",
              "      <td>2629</td>\n",
              "      <td>2718</td>\n",
              "      <td>2811</td>\n",
              "      <td>2910</td>\n",
              "      <td>3007</td>\n",
              "      <td>3127</td>\n",
              "      <td>3256</td>\n",
              "      <td>3382</td>\n",
              "      <td>3517</td>\n",
              "      <td>3649</td>\n",
              "      <td>3848</td>\n",
              "      <td>4006</td>\n",
              "      <td>4154</td>\n",
              "      <td>4295</td>\n",
              "      <td>4474</td>\n",
              "      <td>4648</td>\n",
              "      <td>4838</td>\n",
              "      <td>4997</td>\n",
              "      <td>5182</td>\n",
              "      <td>5369</td>\n",
              "      <td>5558</td>\n",
              "      <td>5723</td>\n",
              "      <td>5891</td>\n",
              "      <td>6067</td>\n",
              "      <td>6253</td>\n",
              "      <td>6442</td>\n",
              "      <td>6629</td>\n",
              "      <td>6821</td>\n",
              "      <td>7019</td>\n",
              "      <td>7201</td>\n",
              "      <td>7377</td>\n",
              "      <td>7542</td>\n",
              "      <td>7728</td>\n",
              "      <td>7918</td>\n",
              "      <td>8113</td>\n",
              "      <td>8306</td>\n",
              "      <td>8503</td>\n",
              "      <td>8697</td>\n",
              "      <td>8857</td>\n",
              "      <td>8997</td>\n",
              "      <td>9134</td>\n",
              "      <td>9267</td>\n",
              "      <td>9394</td>\n",
              "      <td>9513</td>\n",
              "      <td>9626</td>\n",
              "      <td>9733</td>\n",
              "      <td>9831</td>\n",
              "      <td>9935</td>\n",
              "      <td>10050</td>\n",
              "      <td>10154</td>\n",
              "      <td>10265</td>\n",
              "      <td>10382</td>\n",
              "      <td>10484</td>\n",
              "      <td>10589</td>\n",
              "      <td>10698</td>\n",
              "      <td>10810</td>\n",
              "      <td>10919</td>\n",
              "      <td>11031</td>\n",
              "      <td>11147</td>\n",
              "      <td>11268</td>\n",
              "      <td>11385</td>\n",
              "      <td>11504</td>\n",
              "      <td>11631</td>\n",
              "      <td>11771</td>\n",
              "      <td>11920</td>\n",
              "      <td>12076</td>\n",
              "      <td>12248</td>\n",
              "      <td>12445</td>\n",
              "      <td>12685</td>\n",
              "      <td>12968</td>\n",
              "      <td>13273</td>\n",
              "    </tr>\n",
              "    <tr>\n",
              "      <th>3</th>\n",
              "      <td>NaN</td>\n",
              "      <td>Andorra</td>\n",
              "      <td>42.5063</td>\n",
              "      <td>1.5218</td>\n",
              "      <td>0</td>\n",
              "      <td>0</td>\n",
              "      <td>0</td>\n",
              "      <td>0</td>\n",
              "      <td>0</td>\n",
              "      <td>0</td>\n",
              "      <td>0</td>\n",
              "      <td>0</td>\n",
              "      <td>0</td>\n",
              "      <td>0</td>\n",
              "      <td>0</td>\n",
              "      <td>0</td>\n",
              "      <td>0</td>\n",
              "      <td>0</td>\n",
              "      <td>0</td>\n",
              "      <td>0</td>\n",
              "      <td>0</td>\n",
              "      <td>0</td>\n",
              "      <td>0</td>\n",
              "      <td>0</td>\n",
              "      <td>0</td>\n",
              "      <td>0</td>\n",
              "      <td>0</td>\n",
              "      <td>0</td>\n",
              "      <td>0</td>\n",
              "      <td>0</td>\n",
              "      <td>0</td>\n",
              "      <td>0</td>\n",
              "      <td>0</td>\n",
              "      <td>0</td>\n",
              "      <td>0</td>\n",
              "      <td>0</td>\n",
              "      <td>0</td>\n",
              "      <td>0</td>\n",
              "      <td>0</td>\n",
              "      <td>0</td>\n",
              "      <td>0</td>\n",
              "      <td>0</td>\n",
              "      <td>0</td>\n",
              "      <td>0</td>\n",
              "      <td>1</td>\n",
              "      <td>1</td>\n",
              "      <td>1</td>\n",
              "      <td>1</td>\n",
              "      <td>1</td>\n",
              "      <td>1</td>\n",
              "      <td>1</td>\n",
              "      <td>1</td>\n",
              "      <td>1</td>\n",
              "      <td>1</td>\n",
              "      <td>1</td>\n",
              "      <td>1</td>\n",
              "      <td>1</td>\n",
              "      <td>1</td>\n",
              "      <td>2</td>\n",
              "      <td>39</td>\n",
              "      <td>39</td>\n",
              "      <td>53</td>\n",
              "      <td>75</td>\n",
              "      <td>88</td>\n",
              "      <td>113</td>\n",
              "      <td>133</td>\n",
              "      <td>164</td>\n",
              "      <td>188</td>\n",
              "      <td>224</td>\n",
              "      <td>267</td>\n",
              "      <td>308</td>\n",
              "      <td>334</td>\n",
              "      <td>370</td>\n",
              "      <td>376</td>\n",
              "      <td>390</td>\n",
              "      <td>428</td>\n",
              "      <td>439</td>\n",
              "      <td>466</td>\n",
              "      <td>501</td>\n",
              "      <td>525</td>\n",
              "      <td>545</td>\n",
              "      <td>564</td>\n",
              "      <td>583</td>\n",
              "      <td>601</td>\n",
              "      <td>601</td>\n",
              "      <td>638</td>\n",
              "      <td>646</td>\n",
              "      <td>659</td>\n",
              "      <td>673</td>\n",
              "      <td>673</td>\n",
              "      <td>696</td>\n",
              "      <td>704</td>\n",
              "      <td>713</td>\n",
              "      <td>717</td>\n",
              "      <td>717</td>\n",
              "      <td>723</td>\n",
              "      <td>723</td>\n",
              "      <td>731</td>\n",
              "      <td>738</td>\n",
              "      <td>738</td>\n",
              "      <td>743</td>\n",
              "      <td>743</td>\n",
              "      <td>743</td>\n",
              "      <td>745</td>\n",
              "      <td>745</td>\n",
              "      <td>747</td>\n",
              "      <td>748</td>\n",
              "      <td>750</td>\n",
              "      <td>751</td>\n",
              "      <td>751</td>\n",
              "      <td>752</td>\n",
              "      <td>752</td>\n",
              "      <td>754</td>\n",
              "      <td>755</td>\n",
              "      <td>755</td>\n",
              "      <td>758</td>\n",
              "      <td>760</td>\n",
              "      <td>761</td>\n",
              "      <td>761</td>\n",
              "      <td>761</td>\n",
              "      <td>761</td>\n",
              "      <td>761</td>\n",
              "      <td>761</td>\n",
              "      <td>762</td>\n",
              "      <td>762</td>\n",
              "      <td>762</td>\n",
              "      <td>762</td>\n",
              "      <td>762</td>\n",
              "      <td>763</td>\n",
              "      <td>763</td>\n",
              "      <td>763</td>\n",
              "      <td>763</td>\n",
              "      <td>764</td>\n",
              "      <td>764</td>\n",
              "      <td>764</td>\n",
              "      <td>765</td>\n",
              "      <td>844</td>\n",
              "      <td>851</td>\n",
              "      <td>852</td>\n",
              "      <td>852</td>\n",
              "      <td>852</td>\n",
              "      <td>852</td>\n",
              "      <td>852</td>\n",
              "      <td>852</td>\n",
              "      <td>852</td>\n",
              "      <td>852</td>\n",
              "      <td>853</td>\n",
              "      <td>853</td>\n",
              "      <td>853</td>\n",
              "      <td>853</td>\n",
              "      <td>854</td>\n",
              "      <td>854</td>\n",
              "      <td>855</td>\n",
              "      <td>855</td>\n",
              "      <td>855</td>\n",
              "      <td>855</td>\n",
              "      <td>855</td>\n",
              "      <td>855</td>\n",
              "      <td>855</td>\n",
              "      <td>855</td>\n",
              "      <td>855</td>\n",
              "      <td>855</td>\n",
              "      <td>855</td>\n",
              "    </tr>\n",
              "    <tr>\n",
              "      <th>4</th>\n",
              "      <td>NaN</td>\n",
              "      <td>Angola</td>\n",
              "      <td>-11.2027</td>\n",
              "      <td>17.8739</td>\n",
              "      <td>0</td>\n",
              "      <td>0</td>\n",
              "      <td>0</td>\n",
              "      <td>0</td>\n",
              "      <td>0</td>\n",
              "      <td>0</td>\n",
              "      <td>0</td>\n",
              "      <td>0</td>\n",
              "      <td>0</td>\n",
              "      <td>0</td>\n",
              "      <td>0</td>\n",
              "      <td>0</td>\n",
              "      <td>0</td>\n",
              "      <td>0</td>\n",
              "      <td>0</td>\n",
              "      <td>0</td>\n",
              "      <td>0</td>\n",
              "      <td>0</td>\n",
              "      <td>0</td>\n",
              "      <td>0</td>\n",
              "      <td>0</td>\n",
              "      <td>0</td>\n",
              "      <td>0</td>\n",
              "      <td>0</td>\n",
              "      <td>0</td>\n",
              "      <td>0</td>\n",
              "      <td>0</td>\n",
              "      <td>0</td>\n",
              "      <td>0</td>\n",
              "      <td>0</td>\n",
              "      <td>0</td>\n",
              "      <td>0</td>\n",
              "      <td>0</td>\n",
              "      <td>0</td>\n",
              "      <td>0</td>\n",
              "      <td>0</td>\n",
              "      <td>0</td>\n",
              "      <td>0</td>\n",
              "      <td>0</td>\n",
              "      <td>0</td>\n",
              "      <td>0</td>\n",
              "      <td>0</td>\n",
              "      <td>0</td>\n",
              "      <td>0</td>\n",
              "      <td>0</td>\n",
              "      <td>0</td>\n",
              "      <td>0</td>\n",
              "      <td>0</td>\n",
              "      <td>0</td>\n",
              "      <td>0</td>\n",
              "      <td>0</td>\n",
              "      <td>0</td>\n",
              "      <td>0</td>\n",
              "      <td>0</td>\n",
              "      <td>0</td>\n",
              "      <td>0</td>\n",
              "      <td>0</td>\n",
              "      <td>0</td>\n",
              "      <td>1</td>\n",
              "      <td>2</td>\n",
              "      <td>2</td>\n",
              "      <td>3</td>\n",
              "      <td>3</td>\n",
              "      <td>3</td>\n",
              "      <td>4</td>\n",
              "      <td>4</td>\n",
              "      <td>5</td>\n",
              "      <td>7</td>\n",
              "      <td>7</td>\n",
              "      <td>7</td>\n",
              "      <td>8</td>\n",
              "      <td>8</td>\n",
              "      <td>8</td>\n",
              "      <td>10</td>\n",
              "      <td>14</td>\n",
              "      <td>16</td>\n",
              "      <td>17</td>\n",
              "      <td>19</td>\n",
              "      <td>19</td>\n",
              "      <td>19</td>\n",
              "      <td>19</td>\n",
              "      <td>19</td>\n",
              "      <td>19</td>\n",
              "      <td>19</td>\n",
              "      <td>19</td>\n",
              "      <td>19</td>\n",
              "      <td>19</td>\n",
              "      <td>24</td>\n",
              "      <td>24</td>\n",
              "      <td>24</td>\n",
              "      <td>24</td>\n",
              "      <td>25</td>\n",
              "      <td>25</td>\n",
              "      <td>25</td>\n",
              "      <td>25</td>\n",
              "      <td>26</td>\n",
              "      <td>27</td>\n",
              "      <td>27</td>\n",
              "      <td>27</td>\n",
              "      <td>27</td>\n",
              "      <td>30</td>\n",
              "      <td>35</td>\n",
              "      <td>35</td>\n",
              "      <td>35</td>\n",
              "      <td>36</td>\n",
              "      <td>36</td>\n",
              "      <td>36</td>\n",
              "      <td>43</td>\n",
              "      <td>43</td>\n",
              "      <td>45</td>\n",
              "      <td>45</td>\n",
              "      <td>45</td>\n",
              "      <td>45</td>\n",
              "      <td>48</td>\n",
              "      <td>48</td>\n",
              "      <td>48</td>\n",
              "      <td>48</td>\n",
              "      <td>50</td>\n",
              "      <td>52</td>\n",
              "      <td>52</td>\n",
              "      <td>58</td>\n",
              "      <td>60</td>\n",
              "      <td>61</td>\n",
              "      <td>69</td>\n",
              "      <td>70</td>\n",
              "      <td>70</td>\n",
              "      <td>71</td>\n",
              "      <td>74</td>\n",
              "      <td>81</td>\n",
              "      <td>84</td>\n",
              "      <td>86</td>\n",
              "      <td>86</td>\n",
              "      <td>86</td>\n",
              "      <td>86</td>\n",
              "      <td>86</td>\n",
              "      <td>86</td>\n",
              "      <td>88</td>\n",
              "      <td>91</td>\n",
              "      <td>92</td>\n",
              "      <td>96</td>\n",
              "      <td>113</td>\n",
              "      <td>118</td>\n",
              "      <td>130</td>\n",
              "      <td>138</td>\n",
              "      <td>140</td>\n",
              "      <td>142</td>\n",
              "      <td>148</td>\n",
              "      <td>155</td>\n",
              "      <td>166</td>\n",
              "      <td>172</td>\n",
              "      <td>176</td>\n",
              "      <td>183</td>\n",
              "      <td>186</td>\n",
              "      <td>189</td>\n",
              "      <td>197</td>\n",
              "      <td>212</td>\n",
              "      <td>212</td>\n",
              "      <td>259</td>\n",
              "      <td>267</td>\n",
              "    </tr>\n",
              "  </tbody>\n",
              "</table>\n",
              "</div>"
            ],
            "text/plain": [
              "  Province/State Country/Region      Lat     Long  1/22/20  1/23/20  1/24/20  1/25/20  1/26/20  1/27/20  1/28/20  1/29/20  1/30/20  1/31/20  2/1/20  2/2/20  2/3/20  2/4/20  2/5/20  2/6/20  2/7/20  2/8/20  2/9/20  2/10/20  2/11/20  2/12/20  2/13/20  2/14/20  2/15/20  2/16/20  2/17/20  2/18/20  2/19/20  2/20/20  2/21/20  2/22/20  2/23/20  2/24/20  2/25/20  2/26/20  2/27/20  2/28/20  2/29/20  3/1/20  3/2/20  3/3/20  3/4/20  3/5/20  3/6/20  3/7/20  3/8/20  3/9/20  3/10/20  3/11/20  3/12/20  3/13/20  3/14/20  3/15/20  3/16/20  3/17/20  3/18/20  3/19/20  3/20/20  3/21/20  3/22/20  3/23/20  3/24/20  3/25/20  3/26/20  3/27/20  3/28/20  3/29/20  3/30/20  3/31/20  4/1/20  4/2/20  4/3/20  4/4/20  4/5/20  4/6/20  4/7/20  4/8/20  4/9/20  4/10/20  4/11/20  4/12/20  4/13/20  4/14/20  4/15/20  4/16/20  4/17/20  4/18/20  4/19/20  4/20/20  4/21/20  4/22/20  4/23/20  4/24/20  4/25/20  4/26/20  4/27/20  4/28/20  4/29/20  4/30/20  5/1/20  5/2/20  5/3/20  5/4/20  5/5/20  5/6/20  5/7/20  5/8/20  5/9/20  \\\n",
              "0            NaN    Afghanistan  33.0000  65.0000        0        0        0        0        0        0        0        0        0        0       0       0       0       0       0       0       0       0       0        0        0        0        0        0        0        0        0        0        0        0        0        0        0        1        1        1        1        1        1       1       1       1       1       1       1       1       4       4        5        7        7        7       11       16       21       22       22       22       24       24       40       40       74       84       94      110      110      120      170      174     237     273     281     299     349     367     423     444     484      521      555      607      665      714      784      840      906      933      996     1026     1092     1176     1279     1351     1463     1531     1703     1828     1939     2171    2335    2469    2704    2894    3224    3392    3563    3778    4033   \n",
              "1            NaN        Albania  41.1533  20.1683        0        0        0        0        0        0        0        0        0        0       0       0       0       0       0       0       0       0       0        0        0        0        0        0        0        0        0        0        0        0        0        0        0        0        0        0        0        0        0       0       0       0       0       0       0       0       0       2       10       12       23       33       38       42       51       55       59       64       70       76       89      104      123      146      174      186      197      212      223      243     259     277     304     333     361     377     383     400     409      416      433      446      467      475      494      518      539      548      562      584      609      634      663      678      712      726      736      750      766      773     782     789     795     803     820     832     842     850     856   \n",
              "2            NaN        Algeria  28.0339   1.6596        0        0        0        0        0        0        0        0        0        0       0       0       0       0       0       0       0       0       0        0        0        0        0        0        0        0        0        0        0        0        0        0        0        0        1        1        1        1        1       1       3       5      12      12      17      17      19      20       20       20       24       26       37       48       54       60       74       87       90      139      201      230      264      302      367      409      454      511      584      716     847     986    1171    1251    1320    1423    1468    1572    1666     1761     1825     1914     1983     2070     2160     2268     2418     2534     2629     2718     2811     2910     3007     3127     3256     3382     3517     3649     3848     4006    4154    4295    4474    4648    4838    4997    5182    5369    5558   \n",
              "3            NaN        Andorra  42.5063   1.5218        0        0        0        0        0        0        0        0        0        0       0       0       0       0       0       0       0       0       0        0        0        0        0        0        0        0        0        0        0        0        0        0        0        0        0        0        0        0        0       0       1       1       1       1       1       1       1       1        1        1        1        1        1        1        2       39       39       53       75       88      113      133      164      188      224      267      308      334      370      376     390     428     439     466     501     525     545     564     583      601      601      638      646      659      673      673      696      704      713      717      717      723      723      731      738      738      743      743      743      745     745     747     748     750     751     751     752     752     754   \n",
              "4            NaN         Angola -11.2027  17.8739        0        0        0        0        0        0        0        0        0        0       0       0       0       0       0       0       0       0       0        0        0        0        0        0        0        0        0        0        0        0        0        0        0        0        0        0        0        0        0       0       0       0       0       0       0       0       0       0        0        0        0        0        0        0        0        0        0        0        1        2        2        3        3        3        4        4        5        7        7        7       8       8       8      10      14      16      17      19      19       19       19       19       19       19       19       19       19       24       24       24       24       25       25       25       25       26       27       27       27       27      30      35      35      35      36      36      36      43      43   \n",
              "\n",
              "   5/10/20  5/11/20  5/12/20  5/13/20  5/14/20  5/15/20  5/16/20  5/17/20  5/18/20  5/19/20  5/20/20  5/21/20  5/22/20  5/23/20  5/24/20  5/25/20  5/26/20  5/27/20  5/28/20  5/29/20  5/30/20  5/31/20  6/1/20  6/2/20  6/3/20  6/4/20  6/5/20  6/6/20  6/7/20  6/8/20  6/9/20  6/10/20  6/11/20  6/12/20  6/13/20  6/14/20  6/15/20  6/16/20  6/17/20  6/18/20  6/19/20  6/20/20  6/21/20  6/22/20  6/23/20  6/24/20  6/25/20  6/26/20  6/27/20  6/28/20  \n",
              "0     4402     4687     4963     5226     5639     6053     6402     6664     7072     7653     8145     8676     9216     9998    10582    11173    11831    12456    13036    13659    14525    15205   15750   16509   17267   18054   18969   19551   20342   20917   21459    22142    22890    23546    24102    24766    25527    26310    26874    27532    27878    28424    28833    29157    29481    29640    30175    30451    30616    30967  \n",
              "1      868      872      876      880      898      916      933      946      948      949      964      969      981      989      998     1004     1029     1050     1076     1099     1122     1137    1143    1164    1184    1197    1212    1232    1246    1263    1299     1341     1385     1416     1464     1521     1590     1672     1722     1788     1838     1891     1962     1995     2047     2114     2192     2269     2330     2402  \n",
              "2     5723     5891     6067     6253     6442     6629     6821     7019     7201     7377     7542     7728     7918     8113     8306     8503     8697     8857     8997     9134     9267     9394    9513    9626    9733    9831    9935   10050   10154   10265   10382    10484    10589    10698    10810    10919    11031    11147    11268    11385    11504    11631    11771    11920    12076    12248    12445    12685    12968    13273  \n",
              "3      755      755      758      760      761      761      761      761      761      761      762      762      762      762      762      763      763      763      763      764      764      764     765     844     851     852     852     852     852     852     852      852      852      853      853      853      853      854      854      855      855      855      855      855      855      855      855      855      855      855  \n",
              "4       45       45       45       45       48       48       48       48       50       52       52       58       60       61       69       70       70       71       74       81       84       86      86      86      86      86      86      88      91      92      96      113      118      130      138      140      142      148      155      166      172      176      183      186      189      197      212      212      259      267  "
            ]
          },
          "metadata": {
            "tags": []
          },
          "execution_count": 131
        }
      ]
    },
    {
      "cell_type": "code",
      "metadata": {
        "id": "ADmUskwTkixJ",
        "colab_type": "code",
        "colab": {
          "base_uri": "https://localhost:8080/",
          "height": 67
        },
        "outputId": "c5c0e743-03cf-4d59-e4f8-c44816b452b0"
      },
      "source": [
        "#creating a Dates list\n",
        "raw_data_confirm_US.columns"
      ],
      "execution_count": 132,
      "outputs": [
        {
          "output_type": "execute_result",
          "data": {
            "text/plain": [
              "Index(['UID', 'iso2', 'iso3', 'code3', 'FIPS', 'Admin2', 'Province_State', 'Country_Region', 'Lat', 'Long_',\n",
              "       ...\n",
              "       '6/19/20', '6/20/20', '6/21/20', '6/22/20', '6/23/20', '6/24/20', '6/25/20', '6/26/20', '6/27/20', '6/28/20'], dtype='object', length=170)"
            ]
          },
          "metadata": {
            "tags": []
          },
          "execution_count": 132
        }
      ]
    },
    {
      "cell_type": "code",
      "metadata": {
        "id": "-w1PcVZflgsW",
        "colab_type": "code",
        "colab": {}
      },
      "source": [
        "#creating a Dates list\n",
        "column_dates = raw_data_confirm_US.columns\n",
        "column_dates = column_dates.drop(labels=['UID', 'iso2', 'iso3', 'code3', 'FIPS', 'Admin2', 'Province_State', 'Country_Region', 'Lat', 'Long_'])"
      ],
      "execution_count": 133,
      "outputs": []
    },
    {
      "cell_type": "code",
      "metadata": {
        "id": "s6uxxVdymKXT",
        "colab_type": "code",
        "colab": {}
      },
      "source": [
        "#Droping columns we do not need in US dfs\n",
        "raw_data_confirm_US.drop(['UID', 'iso2', 'iso3', 'code3', 'FIPS', 'Admin2'], axis=1, inplace = True)\n",
        "raw_data_deaths_US.drop(['UID', 'iso2', 'iso3', 'code3', 'FIPS', 'Admin2'], axis=1, inplace = True)"
      ],
      "execution_count": 134,
      "outputs": []
    },
    {
      "cell_type": "code",
      "metadata": {
        "id": "xQzHXFrTnJpI",
        "colab_type": "code",
        "colab": {}
      },
      "source": [
        "#Averaging the lat & lang\n",
        "lat_lon_Avg = raw_data_confirm_US.groupby(['Province_State', 'Country_Region'],as_index = False).agg({'Lat':'median','Long_':'median'})"
      ],
      "execution_count": 135,
      "outputs": []
    },
    {
      "cell_type": "code",
      "metadata": {
        "id": "B07aHD9Wo6Sl",
        "colab_type": "code",
        "colab": {}
      },
      "source": [
        "# summing the values\n",
        "raw_data_confirm_US = raw_data_confirm_US.groupby(['Province_State', 'Country_Region'],as_index=False)[column_dates].sum()\n",
        "raw_data_deaths_US = raw_data_deaths_US.groupby(['Province_State', 'Country_Region'],as_index=False)[column_dates].sum()"
      ],
      "execution_count": 136,
      "outputs": []
    },
    {
      "cell_type": "code",
      "metadata": {
        "id": "GB2ODhLbqcSO",
        "colab_type": "code",
        "colab": {}
      },
      "source": [
        "#left joining the AVG lat & lan\n",
        "raw_data_confirm_US = raw_data_deaths_US.merge(lat_lon_Avg, how='left', left_on = ['Province_State', 'Country_Region'], right_on=['Province_State', 'Country_Region'])\n",
        "raw_data_deaths_US = raw_data_deaths_US.merge(lat_lon_Avg, how='left', left_on = ['Province_State', 'Country_Region'], right_on=['Province_State', 'Country_Region'])"
      ],
      "execution_count": 137,
      "outputs": []
    },
    {
      "cell_type": "code",
      "metadata": {
        "id": "45POjT8avy_w",
        "colab_type": "code",
        "colab": {
          "base_uri": "https://localhost:8080/",
          "height": 67
        },
        "outputId": "3c566328-84d3-4c34-b99f-d73cbd250582"
      },
      "source": [
        "raw_data_confirmed.columns"
      ],
      "execution_count": 138,
      "outputs": [
        {
          "output_type": "execute_result",
          "data": {
            "text/plain": [
              "Index(['Province/State', 'Country/Region', 'Lat', 'Long', '1/22/20', '1/23/20', '1/24/20', '1/25/20', '1/26/20', '1/27/20',\n",
              "       ...\n",
              "       '6/19/20', '6/20/20', '6/21/20', '6/22/20', '6/23/20', '6/24/20', '6/25/20', '6/26/20', '6/27/20', '6/28/20'], dtype='object', length=163)"
            ]
          },
          "metadata": {
            "tags": []
          },
          "execution_count": 138
        }
      ]
    },
    {
      "cell_type": "code",
      "metadata": {
        "id": "DziEXC7KwDWM",
        "colab_type": "code",
        "colab": {
          "base_uri": "https://localhost:8080/",
          "height": 67
        },
        "outputId": "bb6d9b1e-1dad-4c77-f8dc-bb03239311e3"
      },
      "source": [
        "raw_data_confirm_US.columns"
      ],
      "execution_count": 139,
      "outputs": [
        {
          "output_type": "execute_result",
          "data": {
            "text/plain": [
              "Index(['Province_State', 'Country_Region', '1/22/20', '1/23/20', '1/24/20', '1/25/20', '1/26/20', '1/27/20', '1/28/20', '1/29/20',\n",
              "       ...\n",
              "       '6/21/20', '6/22/20', '6/23/20', '6/24/20', '6/25/20', '6/26/20', '6/27/20', '6/28/20', 'Lat', 'Long_'], dtype='object', length=163)"
            ]
          },
          "metadata": {
            "tags": []
          },
          "execution_count": 139
        }
      ]
    },
    {
      "cell_type": "code",
      "metadata": {
        "id": "s6ez-oEZtCh_",
        "colab_type": "code",
        "colab": {}
      },
      "source": [
        "#Rename the columns\n",
        "raw_data_confirm_US = raw_data_confirm_US.rename(columns={'Province_State': 'Province/State', 'Country_Region':'Country/Region','Long_':'Long'})\n",
        "raw_data_deaths_US = raw_data_deaths_US.rename(columns={'Province_State': 'Province/State', 'Country_Region':'Country/Region','Long_':'Long'})"
      ],
      "execution_count": 140,
      "outputs": []
    },
    {
      "cell_type": "code",
      "metadata": {
        "id": "A6kybmu_xwRD",
        "colab_type": "code",
        "colab": {
          "base_uri": "https://localhost:8080/",
          "height": 67
        },
        "outputId": "0e48bcf0-867a-4dbe-bce9-4b596f325f20"
      },
      "source": [
        "raw_data_confirm_US.columns"
      ],
      "execution_count": 141,
      "outputs": [
        {
          "output_type": "execute_result",
          "data": {
            "text/plain": [
              "Index(['Province/State', 'Country/Region', '1/22/20', '1/23/20', '1/24/20', '1/25/20', '1/26/20', '1/27/20', '1/28/20', '1/29/20',\n",
              "       ...\n",
              "       '6/21/20', '6/22/20', '6/23/20', '6/24/20', '6/25/20', '6/26/20', '6/27/20', '6/28/20', 'Lat', 'Long'], dtype='object', length=163)"
            ]
          },
          "metadata": {
            "tags": []
          },
          "execution_count": 141
        }
      ]
    },
    {
      "cell_type": "code",
      "metadata": {
        "id": "qrkvKRBkqz9g",
        "colab_type": "code",
        "colab": {}
      },
      "source": [
        "#Re-ordering the columns\n",
        "raw_data_confirm_US = raw_data_confirm_US[raw_data_confirmed.columns]\n",
        "raw_data_deaths_US = raw_data_deaths_US[raw_data_confirmed.columns]"
      ],
      "execution_count": 142,
      "outputs": []
    },
    {
      "cell_type": "code",
      "metadata": {
        "id": "Z1_1mOLMq7ik",
        "colab_type": "code",
        "colab": {
          "base_uri": "https://localhost:8080/",
          "height": 101
        },
        "outputId": "96918e77-d927-44a6-ee54-7f04052771a4"
      },
      "source": [
        "print(\"The shape of confirmed is:\",raw_data_confirmed.shape)\n",
        "print(\"The shape of confirmed US is:\",raw_data_confirm_US.shape)\n",
        "print()\n",
        "print(\"The shape of Death is:\",raw_data_deaths.shape)\n",
        "print(\"The shape of Death US is:\",raw_data_deaths_US.shape)"
      ],
      "execution_count": 143,
      "outputs": [
        {
          "output_type": "stream",
          "text": [
            "The shape of confirmed is: (266, 163)\n",
            "The shape of confirmed US is: (58, 163)\n",
            "\n",
            "The shape of Death is: (266, 163)\n",
            "The shape of Death US is: (58, 163)\n"
          ],
          "name": "stdout"
        }
      ]
    },
    {
      "cell_type": "code",
      "metadata": {
        "id": "d6ADhC5Nq7ZM",
        "colab_type": "code",
        "colab": {}
      },
      "source": [
        "#Filtering out the us\n",
        "raw_data_confirmed = raw_data_confirmed[raw_data_confirmed['Country/Region']!='US']\n",
        "raw_data_deaths = raw_data_deaths[raw_data_deaths['Country/Region']!='US']"
      ],
      "execution_count": 144,
      "outputs": []
    },
    {
      "cell_type": "code",
      "metadata": {
        "id": "fPtsnt1iRU8Z",
        "colab_type": "code",
        "colab": {}
      },
      "source": [
        "#Union the 2-dfs\n",
        "raw_data_confirmed = pd.concat([raw_data_confirmed, raw_data_confirm_US], ignore_index=True)\n",
        "raw_data_deaths = pd.concat([raw_data_deaths, raw_data_deaths_US], ignore_index = True)"
      ],
      "execution_count": 145,
      "outputs": []
    },
    {
      "cell_type": "code",
      "metadata": {
        "id": "nxXtTQf5SVwG",
        "colab_type": "code",
        "colab": {}
      },
      "source": [
        "# un-pivoting the data\n",
        "raw_data_confirmed2 = pd.melt(raw_data_confirmed, id_vars=['Province/State', 'Country/Region','Lat', 'Long'], var_name=['Date'])\n",
        "raw_data_deaths2 = pd.melt(raw_data_deaths, id_vars=['Province/State', 'Country/Region','Lat', 'Long'], var_name=['Date'])\n",
        "raw_data_Recovered2 = pd.melt(raw_data_Recovered, id_vars=['Province/State', 'Country/Region','Lat', 'Long'], var_name=['Date'])\n"
      ],
      "execution_count": 146,
      "outputs": []
    },
    {
      "cell_type": "code",
      "metadata": {
        "id": "LdilYIm4USoC",
        "colab_type": "code",
        "colab": {
          "base_uri": "https://localhost:8080/",
          "height": 67
        },
        "outputId": "2835e518-0483-4630-ad82-bdb5dbf151ab"
      },
      "source": [
        "print(\"The shape of confirmed2 is:\", raw_data_confirmed2.shape)\n",
        "print(\"The shape of Death2 is:\", raw_data_deaths2.shape)\n",
        "print(\"The shape of Recovered2 is:\", raw_data_Recovered2.shape)"
      ],
      "execution_count": 147,
      "outputs": [
        {
          "output_type": "stream",
          "text": [
            "The shape of confirmed2 is: (51357, 6)\n",
            "The shape of Death2 is: (51357, 6)\n",
            "The shape of Recovered2 is: (40227, 6)\n"
          ],
          "name": "stdout"
        }
      ]
    },
    {
      "cell_type": "code",
      "metadata": {
        "id": "sCVYfLhIVBxC",
        "colab_type": "code",
        "colab": {}
      },
      "source": [
        "#Converting the new column to dates\n",
        "raw_data_confirmed2['Date']=pd.to_datetime(raw_data_confirmed2['Date'])\n",
        "raw_data_deaths2['Date']=pd.to_datetime(raw_data_deaths2['Date'])\n",
        "raw_data_Recovered2['Date']=pd.to_datetime(raw_data_Recovered2['Date'])"
      ],
      "execution_count": 148,
      "outputs": []
    },
    {
      "cell_type": "code",
      "metadata": {
        "id": "PbX2sc-WWAY2",
        "colab_type": "code",
        "colab": {
          "base_uri": "https://localhost:8080/",
          "height": 34
        },
        "outputId": "dc88ca72-bacd-4722-9b07-1575dcb8d228"
      },
      "source": [
        "raw_data_deaths2.columns"
      ],
      "execution_count": 149,
      "outputs": [
        {
          "output_type": "execute_result",
          "data": {
            "text/plain": [
              "Index(['Province/State', 'Country/Region', 'Lat', 'Long', 'Date', 'value'], dtype='object')"
            ]
          },
          "metadata": {
            "tags": []
          },
          "execution_count": 149
        }
      ]
    },
    {
      "cell_type": "code",
      "metadata": {
        "id": "p5xEcP6BWdtA",
        "colab_type": "code",
        "colab": {}
      },
      "source": [
        "#Renewing the values\n",
        "raw_data_confirmed2.columns=raw_data_confirmed2.columns.str.replace('value','confirmed')\n",
        "raw_data_deaths2.columns=raw_data_deaths2.columns.str.replace('value','Death')\n",
        "raw_data_Recovered2.columns=raw_data_Recovered2.columns.str.replace('value','Recovered')\n"
      ],
      "execution_count": 150,
      "outputs": []
    },
    {
      "cell_type": "code",
      "metadata": {
        "id": "yw4XU69IXJMg",
        "colab_type": "code",
        "colab": {
          "base_uri": "https://localhost:8080/",
          "height": 134
        },
        "outputId": "f2af1d56-a2d3-47c8-ebc1-5498c1db3d77"
      },
      "source": [
        "#Investigating the Null values\n",
        "raw_data_Recovered2.isnull().sum()"
      ],
      "execution_count": 151,
      "outputs": [
        {
          "output_type": "execute_result",
          "data": {
            "text/plain": [
              "Province/State    29574\n",
              "Country/Region        0\n",
              "Lat                   0\n",
              "Long                  0\n",
              "Date                  0\n",
              "Recovered             0\n",
              "dtype: int64"
            ]
          },
          "metadata": {
            "tags": []
          },
          "execution_count": 151
        }
      ]
    },
    {
      "cell_type": "code",
      "metadata": {
        "id": "oIa-w074XoD1",
        "colab_type": "code",
        "colab": {
          "base_uri": "https://localhost:8080/",
          "height": 134
        },
        "outputId": "943eb6cf-a9c0-4f0d-ba2d-ada6d4dbc598"
      },
      "source": [
        "#Dealing with Null values\n",
        "raw_data_confirmed2['Province/State'].fillna(raw_data_confirmed2['Country/Region'], inplace=True)\n",
        "raw_data_deaths2['Province/State'].fillna(raw_data_deaths2['Country/Region'], inplace=True)\n",
        "raw_data_Recovered2['Province/State'].fillna(raw_data_Recovered2['Country/Region'], inplace=True)\n",
        "\n",
        "raw_data_confirmed2.isnull().sum()"
      ],
      "execution_count": 152,
      "outputs": [
        {
          "output_type": "execute_result",
          "data": {
            "text/plain": [
              "Province/State    0\n",
              "Country/Region    0\n",
              "Lat               0\n",
              "Long              0\n",
              "Date              0\n",
              "confirmed         0\n",
              "dtype: int64"
            ]
          },
          "metadata": {
            "tags": []
          },
          "execution_count": 152
        }
      ]
    },
    {
      "cell_type": "code",
      "metadata": {
        "id": "9MuUXquaYyhZ",
        "colab_type": "code",
        "colab": {
          "base_uri": "https://localhost:8080/",
          "height": 67
        },
        "outputId": "585e9fce-793c-43a9-d329-16ba6f5c0c45"
      },
      "source": [
        "print(\"The shape of confirmed2 is:\", raw_data_confirmed2.shape)\n",
        "print(\"The shape of Death2 is:\", raw_data_deaths2.shape)\n",
        "print(\"The shape of Recovered2 is:\", raw_data_Recovered2.shape)"
      ],
      "execution_count": 153,
      "outputs": [
        {
          "output_type": "stream",
          "text": [
            "The shape of confirmed2 is: (51357, 6)\n",
            "The shape of Death2 is: (51357, 6)\n",
            "The shape of Recovered2 is: (40227, 6)\n"
          ],
          "name": "stdout"
        }
      ]
    },
    {
      "cell_type": "code",
      "metadata": {
        "id": "boUCUjiKbFLA",
        "colab_type": "code",
        "colab": {
          "base_uri": "https://localhost:8080/",
          "height": 34
        },
        "outputId": "a99bf823-1137-42f0-ac1c-17755125bf90"
      },
      "source": [
        "raw_data_Recovered2.columns"
      ],
      "execution_count": 154,
      "outputs": [
        {
          "output_type": "execute_result",
          "data": {
            "text/plain": [
              "Index(['Province/State', 'Country/Region', 'Lat', 'Long', 'Date', 'Recovered'], dtype='object')"
            ]
          },
          "metadata": {
            "tags": []
          },
          "execution_count": 154
        }
      ]
    },
    {
      "cell_type": "code",
      "metadata": {
        "id": "WLEkVWvGZnBm",
        "colab_type": "code",
        "colab": {
          "base_uri": "https://localhost:8080/",
          "height": 34
        },
        "outputId": "18d63778-eb22-4447-d9d8-9aa5d7c52b55"
      },
      "source": [
        "#left join\n",
        "\n",
        "#confirmed with death\n",
        "full_join = raw_data_confirmed2.merge(raw_data_deaths2[['Province/State', 'Country/Region', 'Date', 'Death']],\n",
        "                                      how = 'left',\n",
        "                                      left_on=['Province/State', 'Country/Region', 'Date'],\n",
        "                                      right_on=['Province/State', 'Country/Region', 'Date'])\n",
        "\n",
        "print('shape of first join',full_join.shape)"
      ],
      "execution_count": 155,
      "outputs": [
        {
          "output_type": "stream",
          "text": [
            "shape of first join (51357, 7)\n"
          ],
          "name": "stdout"
        }
      ]
    },
    {
      "cell_type": "code",
      "metadata": {
        "id": "NjxXmsm8cKQF",
        "colab_type": "code",
        "colab": {
          "base_uri": "https://localhost:8080/",
          "height": 34
        },
        "outputId": "a9db27ab-6755-44a2-a9a7-c4be4e03ff56"
      },
      "source": [
        "full_join = full_join.merge(raw_data_Recovered2[['Province/State', 'Country/Region', 'Date', 'Recovered']],\n",
        "                                      how = 'left',\n",
        "                                      left_on=['Province/State', 'Country/Region', 'Date'],\n",
        "                                      right_on=['Province/State', 'Country/Region', 'Date'])\n",
        "\n",
        "print('shape of first join',full_join.shape)"
      ],
      "execution_count": 156,
      "outputs": [
        {
          "output_type": "stream",
          "text": [
            "shape of first join (51357, 8)\n"
          ],
          "name": "stdout"
        }
      ]
    },
    {
      "cell_type": "code",
      "metadata": {
        "id": "zzFolb-bcvKh",
        "colab_type": "code",
        "colab": {
          "base_uri": "https://localhost:8080/",
          "height": 195
        },
        "outputId": "abe30d47-c39b-48b2-9f64-eaed367fc08d"
      },
      "source": [
        "full_join.head()"
      ],
      "execution_count": 157,
      "outputs": [
        {
          "output_type": "execute_result",
          "data": {
            "text/html": [
              "<div>\n",
              "<style scoped>\n",
              "    .dataframe tbody tr th:only-of-type {\n",
              "        vertical-align: middle;\n",
              "    }\n",
              "\n",
              "    .dataframe tbody tr th {\n",
              "        vertical-align: top;\n",
              "    }\n",
              "\n",
              "    .dataframe thead th {\n",
              "        text-align: right;\n",
              "    }\n",
              "</style>\n",
              "<table border=\"1\" class=\"dataframe\">\n",
              "  <thead>\n",
              "    <tr style=\"text-align: right;\">\n",
              "      <th></th>\n",
              "      <th>Province/State</th>\n",
              "      <th>Country/Region</th>\n",
              "      <th>Lat</th>\n",
              "      <th>Long</th>\n",
              "      <th>Date</th>\n",
              "      <th>confirmed</th>\n",
              "      <th>Death</th>\n",
              "      <th>Recovered</th>\n",
              "    </tr>\n",
              "  </thead>\n",
              "  <tbody>\n",
              "    <tr>\n",
              "      <th>0</th>\n",
              "      <td>Afghanistan</td>\n",
              "      <td>Afghanistan</td>\n",
              "      <td>33.0000</td>\n",
              "      <td>65.0000</td>\n",
              "      <td>2020-01-22</td>\n",
              "      <td>0</td>\n",
              "      <td>0</td>\n",
              "      <td>0.0</td>\n",
              "    </tr>\n",
              "    <tr>\n",
              "      <th>1</th>\n",
              "      <td>Albania</td>\n",
              "      <td>Albania</td>\n",
              "      <td>41.1533</td>\n",
              "      <td>20.1683</td>\n",
              "      <td>2020-01-22</td>\n",
              "      <td>0</td>\n",
              "      <td>0</td>\n",
              "      <td>0.0</td>\n",
              "    </tr>\n",
              "    <tr>\n",
              "      <th>2</th>\n",
              "      <td>Algeria</td>\n",
              "      <td>Algeria</td>\n",
              "      <td>28.0339</td>\n",
              "      <td>1.6596</td>\n",
              "      <td>2020-01-22</td>\n",
              "      <td>0</td>\n",
              "      <td>0</td>\n",
              "      <td>0.0</td>\n",
              "    </tr>\n",
              "    <tr>\n",
              "      <th>3</th>\n",
              "      <td>Andorra</td>\n",
              "      <td>Andorra</td>\n",
              "      <td>42.5063</td>\n",
              "      <td>1.5218</td>\n",
              "      <td>2020-01-22</td>\n",
              "      <td>0</td>\n",
              "      <td>0</td>\n",
              "      <td>0.0</td>\n",
              "    </tr>\n",
              "    <tr>\n",
              "      <th>4</th>\n",
              "      <td>Angola</td>\n",
              "      <td>Angola</td>\n",
              "      <td>-11.2027</td>\n",
              "      <td>17.8739</td>\n",
              "      <td>2020-01-22</td>\n",
              "      <td>0</td>\n",
              "      <td>0</td>\n",
              "      <td>0.0</td>\n",
              "    </tr>\n",
              "  </tbody>\n",
              "</table>\n",
              "</div>"
            ],
            "text/plain": [
              "  Province/State Country/Region      Lat     Long       Date  confirmed  Death  Recovered\n",
              "0    Afghanistan    Afghanistan  33.0000  65.0000 2020-01-22          0      0        0.0\n",
              "1        Albania        Albania  41.1533  20.1683 2020-01-22          0      0        0.0\n",
              "2        Algeria        Algeria  28.0339   1.6596 2020-01-22          0      0        0.0\n",
              "3        Andorra        Andorra  42.5063   1.5218 2020-01-22          0      0        0.0\n",
              "4         Angola         Angola -11.2027  17.8739 2020-01-22          0      0        0.0"
            ]
          },
          "metadata": {
            "tags": []
          },
          "execution_count": 157
        }
      ]
    },
    {
      "cell_type": "code",
      "metadata": {
        "id": "X1IAVWJudlda",
        "colab_type": "code",
        "colab": {
          "base_uri": "https://localhost:8080/",
          "height": 168
        },
        "outputId": "18d201d8-47ff-4703-a8fb-243b53772f27"
      },
      "source": [
        "#checking for null values (especialy long and lat)\n",
        "full_join.isnull().sum()"
      ],
      "execution_count": 158,
      "outputs": [
        {
          "output_type": "execute_result",
          "data": {
            "text/plain": [
              "Province/State        0\n",
              "Country/Region        0\n",
              "Lat                   0\n",
              "Long                  0\n",
              "Date                  0\n",
              "confirmed             0\n",
              "Death                 0\n",
              "Recovered         11448\n",
              "dtype: int64"
            ]
          },
          "metadata": {
            "tags": []
          },
          "execution_count": 158
        }
      ]
    },
    {
      "cell_type": "code",
      "metadata": {
        "id": "-FUePVtne1R3",
        "colab_type": "code",
        "colab": {}
      },
      "source": [
        "#Adding month and year as a new column\n",
        "full_join['Month-Year'] = full_join['Date'].dt.strftime(\"%b-%Y\")"
      ],
      "execution_count": 159,
      "outputs": []
    },
    {
      "cell_type": "code",
      "metadata": {
        "id": "a1-XznpdfTRA",
        "colab_type": "code",
        "colab": {
          "base_uri": "https://localhost:8080/",
          "height": 195
        },
        "outputId": "d2ade438-c63a-4264-f607-8513410dac24"
      },
      "source": [
        "full_join.head()"
      ],
      "execution_count": 115,
      "outputs": [
        {
          "output_type": "execute_result",
          "data": {
            "text/html": [
              "<div>\n",
              "<style scoped>\n",
              "    .dataframe tbody tr th:only-of-type {\n",
              "        vertical-align: middle;\n",
              "    }\n",
              "\n",
              "    .dataframe tbody tr th {\n",
              "        vertical-align: top;\n",
              "    }\n",
              "\n",
              "    .dataframe thead th {\n",
              "        text-align: right;\n",
              "    }\n",
              "</style>\n",
              "<table border=\"1\" class=\"dataframe\">\n",
              "  <thead>\n",
              "    <tr style=\"text-align: right;\">\n",
              "      <th></th>\n",
              "      <th>Province/State</th>\n",
              "      <th>Country/Region</th>\n",
              "      <th>Lat</th>\n",
              "      <th>Long</th>\n",
              "      <th>Date</th>\n",
              "      <th>confirmed</th>\n",
              "      <th>Death</th>\n",
              "      <th>Recovered</th>\n",
              "      <th>Month-Year</th>\n",
              "    </tr>\n",
              "  </thead>\n",
              "  <tbody>\n",
              "    <tr>\n",
              "      <th>0</th>\n",
              "      <td>Afghanistan</td>\n",
              "      <td>Afghanistan</td>\n",
              "      <td>33.0000</td>\n",
              "      <td>65.0000</td>\n",
              "      <td>2020-01-22</td>\n",
              "      <td>0</td>\n",
              "      <td>0</td>\n",
              "      <td>0.0</td>\n",
              "      <td>Jan-2020</td>\n",
              "    </tr>\n",
              "    <tr>\n",
              "      <th>1</th>\n",
              "      <td>Albania</td>\n",
              "      <td>Albania</td>\n",
              "      <td>41.1533</td>\n",
              "      <td>20.1683</td>\n",
              "      <td>2020-01-22</td>\n",
              "      <td>0</td>\n",
              "      <td>0</td>\n",
              "      <td>0.0</td>\n",
              "      <td>Jan-2020</td>\n",
              "    </tr>\n",
              "    <tr>\n",
              "      <th>2</th>\n",
              "      <td>Algeria</td>\n",
              "      <td>Algeria</td>\n",
              "      <td>28.0339</td>\n",
              "      <td>1.6596</td>\n",
              "      <td>2020-01-22</td>\n",
              "      <td>0</td>\n",
              "      <td>0</td>\n",
              "      <td>0.0</td>\n",
              "      <td>Jan-2020</td>\n",
              "    </tr>\n",
              "    <tr>\n",
              "      <th>3</th>\n",
              "      <td>Andorra</td>\n",
              "      <td>Andorra</td>\n",
              "      <td>42.5063</td>\n",
              "      <td>1.5218</td>\n",
              "      <td>2020-01-22</td>\n",
              "      <td>0</td>\n",
              "      <td>0</td>\n",
              "      <td>0.0</td>\n",
              "      <td>Jan-2020</td>\n",
              "    </tr>\n",
              "    <tr>\n",
              "      <th>4</th>\n",
              "      <td>Angola</td>\n",
              "      <td>Angola</td>\n",
              "      <td>-11.2027</td>\n",
              "      <td>17.8739</td>\n",
              "      <td>2020-01-22</td>\n",
              "      <td>0</td>\n",
              "      <td>0</td>\n",
              "      <td>0.0</td>\n",
              "      <td>Jan-2020</td>\n",
              "    </tr>\n",
              "  </tbody>\n",
              "</table>\n",
              "</div>"
            ],
            "text/plain": [
              "  Province/State Country/Region      Lat     Long       Date  confirmed  Death  Recovered Month-Year\n",
              "0    Afghanistan    Afghanistan  33.0000  65.0000 2020-01-22          0      0        0.0   Jan-2020\n",
              "1        Albania        Albania  41.1533  20.1683 2020-01-22          0      0        0.0   Jan-2020\n",
              "2        Algeria        Algeria  28.0339   1.6596 2020-01-22          0      0        0.0   Jan-2020\n",
              "3        Andorra        Andorra  42.5063   1.5218 2020-01-22          0      0        0.0   Jan-2020\n",
              "4         Angola         Angola -11.2027  17.8739 2020-01-22          0      0        0.0   Jan-2020"
            ]
          },
          "metadata": {
            "tags": []
          },
          "execution_count": 115
        }
      ]
    },
    {
      "cell_type": "code",
      "metadata": {
        "id": "R0hN3slKfbd9",
        "colab_type": "code",
        "colab": {}
      },
      "source": [
        "#test = full_join[full_join['Province/State']=='Anhui']\n",
        "\n",
        "#full_join2 = test.copy()"
      ],
      "execution_count": 40,
      "outputs": []
    },
    {
      "cell_type": "code",
      "metadata": {
        "id": "NW2dWH6kjond",
        "colab_type": "code",
        "colab": {}
      },
      "source": [
        "#full_join2['Date - 1'] = full_join2['Date'] + pd.Timedelta(days=1)\n",
        "#full_join2.rename(columns={'confirmed':'confirmed-1', 'Death':'Death-1', 'Recovered':'Recovered-1','Date':'Date Minus 1'}, inplace=True)"
      ],
      "execution_count": 41,
      "outputs": []
    },
    {
      "cell_type": "code",
      "metadata": {
        "id": "pS_g3YQAj_aC",
        "colab_type": "code",
        "colab": {
          "base_uri": "https://localhost:8080/",
          "height": 34
        },
        "outputId": "9330f5c6-fc73-4c3e-9c15-35e0e8367c26"
      },
      "source": [
        "#full_join2.columns"
      ],
      "execution_count": 42,
      "outputs": [
        {
          "output_type": "execute_result",
          "data": {
            "text/plain": [
              "Index(['Province/State', 'Country/Region', 'Lat', 'Long', 'Date Minus 1', 'confirmed-1', 'Death-1', 'Recovered-1', 'Month-Year', 'Date - 1'], dtype='object')"
            ]
          },
          "metadata": {
            "tags": []
          },
          "execution_count": 42
        }
      ]
    },
    {
      "cell_type": "code",
      "metadata": {
        "id": "dfAyO8Ytk2Dc",
        "colab_type": "code",
        "colab": {}
      },
      "source": [
        "#full_join3 = test.merge(full_join2[['Province/State', 'Country/Region','confirmed-1', 'Death-1', 'Recovered-1','Date - 1','Date Minus 1']],\n",
        "                        how = 'outer',\n",
        "                        left_on=['Province/State', 'Country/Region', 'Date'],\n",
        "                        right_on=['Province/State', 'Country/Region', 'Date - 1'])"
      ],
      "execution_count": 43,
      "outputs": []
    },
    {
      "cell_type": "code",
      "metadata": {
        "id": "sGxb9IX7lojT",
        "colab_type": "code",
        "colab": {}
      },
      "source": [
        "#full_join3['confirmed Daily'] = full_join3['confirmed'] - full_join3['confirmed-1']"
      ],
      "execution_count": 44,
      "outputs": []
    },
    {
      "cell_type": "code",
      "metadata": {
        "id": "qe4_Vwu8l2sj",
        "colab_type": "code",
        "colab": {
          "base_uri": "https://localhost:8080/",
          "height": 195
        },
        "outputId": "16d9343f-f487-4dd9-e2e8-66aed7cdda71"
      },
      "source": [
        "#test.head()"
      ],
      "execution_count": 45,
      "outputs": [
        {
          "output_type": "execute_result",
          "data": {
            "text/html": [
              "<div>\n",
              "<style scoped>\n",
              "    .dataframe tbody tr th:only-of-type {\n",
              "        vertical-align: middle;\n",
              "    }\n",
              "\n",
              "    .dataframe tbody tr th {\n",
              "        vertical-align: top;\n",
              "    }\n",
              "\n",
              "    .dataframe thead th {\n",
              "        text-align: right;\n",
              "    }\n",
              "</style>\n",
              "<table border=\"1\" class=\"dataframe\">\n",
              "  <thead>\n",
              "    <tr style=\"text-align: right;\">\n",
              "      <th></th>\n",
              "      <th>Province/State</th>\n",
              "      <th>Country/Region</th>\n",
              "      <th>Lat</th>\n",
              "      <th>Long</th>\n",
              "      <th>Date</th>\n",
              "      <th>confirmed</th>\n",
              "      <th>Death</th>\n",
              "      <th>Recovered</th>\n",
              "      <th>Month-Year</th>\n",
              "    </tr>\n",
              "  </thead>\n",
              "  <tbody>\n",
              "    <tr>\n",
              "      <th>49</th>\n",
              "      <td>Anhui</td>\n",
              "      <td>China</td>\n",
              "      <td>31.8257</td>\n",
              "      <td>117.2264</td>\n",
              "      <td>2020-01-22</td>\n",
              "      <td>1</td>\n",
              "      <td>0</td>\n",
              "      <td>0.0</td>\n",
              "      <td>Jan-2020</td>\n",
              "    </tr>\n",
              "    <tr>\n",
              "      <th>372</th>\n",
              "      <td>Anhui</td>\n",
              "      <td>China</td>\n",
              "      <td>31.8257</td>\n",
              "      <td>117.2264</td>\n",
              "      <td>2020-01-23</td>\n",
              "      <td>9</td>\n",
              "      <td>0</td>\n",
              "      <td>0.0</td>\n",
              "      <td>Jan-2020</td>\n",
              "    </tr>\n",
              "    <tr>\n",
              "      <th>695</th>\n",
              "      <td>Anhui</td>\n",
              "      <td>China</td>\n",
              "      <td>31.8257</td>\n",
              "      <td>117.2264</td>\n",
              "      <td>2020-01-24</td>\n",
              "      <td>15</td>\n",
              "      <td>0</td>\n",
              "      <td>0.0</td>\n",
              "      <td>Jan-2020</td>\n",
              "    </tr>\n",
              "    <tr>\n",
              "      <th>1018</th>\n",
              "      <td>Anhui</td>\n",
              "      <td>China</td>\n",
              "      <td>31.8257</td>\n",
              "      <td>117.2264</td>\n",
              "      <td>2020-01-25</td>\n",
              "      <td>39</td>\n",
              "      <td>0</td>\n",
              "      <td>0.0</td>\n",
              "      <td>Jan-2020</td>\n",
              "    </tr>\n",
              "    <tr>\n",
              "      <th>1341</th>\n",
              "      <td>Anhui</td>\n",
              "      <td>China</td>\n",
              "      <td>31.8257</td>\n",
              "      <td>117.2264</td>\n",
              "      <td>2020-01-26</td>\n",
              "      <td>60</td>\n",
              "      <td>0</td>\n",
              "      <td>0.0</td>\n",
              "      <td>Jan-2020</td>\n",
              "    </tr>\n",
              "  </tbody>\n",
              "</table>\n",
              "</div>"
            ],
            "text/plain": [
              "     Province/State Country/Region      Lat      Long       Date  confirmed  Death  Recovered Month-Year\n",
              "49            Anhui          China  31.8257  117.2264 2020-01-22          1      0        0.0   Jan-2020\n",
              "372           Anhui          China  31.8257  117.2264 2020-01-23          9      0        0.0   Jan-2020\n",
              "695           Anhui          China  31.8257  117.2264 2020-01-24         15      0        0.0   Jan-2020\n",
              "1018          Anhui          China  31.8257  117.2264 2020-01-25         39      0        0.0   Jan-2020\n",
              "1341          Anhui          China  31.8257  117.2264 2020-01-26         60      0        0.0   Jan-2020"
            ]
          },
          "metadata": {
            "tags": []
          },
          "execution_count": 45
        }
      ]
    },
    {
      "cell_type": "code",
      "metadata": {
        "id": "kYs3Y57kmDeK",
        "colab_type": "code",
        "colab": {
          "base_uri": "https://localhost:8080/",
          "height": 195
        },
        "outputId": "6b6f333a-1e30-45ab-b98b-8c2f716c2054"
      },
      "source": [
        "#full_join2.head()"
      ],
      "execution_count": 46,
      "outputs": [
        {
          "output_type": "execute_result",
          "data": {
            "text/html": [
              "<div>\n",
              "<style scoped>\n",
              "    .dataframe tbody tr th:only-of-type {\n",
              "        vertical-align: middle;\n",
              "    }\n",
              "\n",
              "    .dataframe tbody tr th {\n",
              "        vertical-align: top;\n",
              "    }\n",
              "\n",
              "    .dataframe thead th {\n",
              "        text-align: right;\n",
              "    }\n",
              "</style>\n",
              "<table border=\"1\" class=\"dataframe\">\n",
              "  <thead>\n",
              "    <tr style=\"text-align: right;\">\n",
              "      <th></th>\n",
              "      <th>Province/State</th>\n",
              "      <th>Country/Region</th>\n",
              "      <th>Lat</th>\n",
              "      <th>Long</th>\n",
              "      <th>Date Minus 1</th>\n",
              "      <th>confirmed-1</th>\n",
              "      <th>Death-1</th>\n",
              "      <th>Recovered-1</th>\n",
              "      <th>Month-Year</th>\n",
              "      <th>Date - 1</th>\n",
              "    </tr>\n",
              "  </thead>\n",
              "  <tbody>\n",
              "    <tr>\n",
              "      <th>49</th>\n",
              "      <td>Anhui</td>\n",
              "      <td>China</td>\n",
              "      <td>31.8257</td>\n",
              "      <td>117.2264</td>\n",
              "      <td>2020-01-22</td>\n",
              "      <td>1</td>\n",
              "      <td>0</td>\n",
              "      <td>0.0</td>\n",
              "      <td>Jan-2020</td>\n",
              "      <td>2020-01-23</td>\n",
              "    </tr>\n",
              "    <tr>\n",
              "      <th>372</th>\n",
              "      <td>Anhui</td>\n",
              "      <td>China</td>\n",
              "      <td>31.8257</td>\n",
              "      <td>117.2264</td>\n",
              "      <td>2020-01-23</td>\n",
              "      <td>9</td>\n",
              "      <td>0</td>\n",
              "      <td>0.0</td>\n",
              "      <td>Jan-2020</td>\n",
              "      <td>2020-01-24</td>\n",
              "    </tr>\n",
              "    <tr>\n",
              "      <th>695</th>\n",
              "      <td>Anhui</td>\n",
              "      <td>China</td>\n",
              "      <td>31.8257</td>\n",
              "      <td>117.2264</td>\n",
              "      <td>2020-01-24</td>\n",
              "      <td>15</td>\n",
              "      <td>0</td>\n",
              "      <td>0.0</td>\n",
              "      <td>Jan-2020</td>\n",
              "      <td>2020-01-25</td>\n",
              "    </tr>\n",
              "    <tr>\n",
              "      <th>1018</th>\n",
              "      <td>Anhui</td>\n",
              "      <td>China</td>\n",
              "      <td>31.8257</td>\n",
              "      <td>117.2264</td>\n",
              "      <td>2020-01-25</td>\n",
              "      <td>39</td>\n",
              "      <td>0</td>\n",
              "      <td>0.0</td>\n",
              "      <td>Jan-2020</td>\n",
              "      <td>2020-01-26</td>\n",
              "    </tr>\n",
              "    <tr>\n",
              "      <th>1341</th>\n",
              "      <td>Anhui</td>\n",
              "      <td>China</td>\n",
              "      <td>31.8257</td>\n",
              "      <td>117.2264</td>\n",
              "      <td>2020-01-26</td>\n",
              "      <td>60</td>\n",
              "      <td>0</td>\n",
              "      <td>0.0</td>\n",
              "      <td>Jan-2020</td>\n",
              "      <td>2020-01-27</td>\n",
              "    </tr>\n",
              "  </tbody>\n",
              "</table>\n",
              "</div>"
            ],
            "text/plain": [
              "     Province/State Country/Region      Lat      Long Date Minus 1  confirmed-1  Death-1  Recovered-1 Month-Year   Date - 1\n",
              "49            Anhui          China  31.8257  117.2264   2020-01-22            1        0          0.0   Jan-2020 2020-01-23\n",
              "372           Anhui          China  31.8257  117.2264   2020-01-23            9        0          0.0   Jan-2020 2020-01-24\n",
              "695           Anhui          China  31.8257  117.2264   2020-01-24           15        0          0.0   Jan-2020 2020-01-25\n",
              "1018          Anhui          China  31.8257  117.2264   2020-01-25           39        0          0.0   Jan-2020 2020-01-26\n",
              "1341          Anhui          China  31.8257  117.2264   2020-01-26           60        0          0.0   Jan-2020 2020-01-27"
            ]
          },
          "metadata": {
            "tags": []
          },
          "execution_count": 46
        }
      ]
    },
    {
      "cell_type": "code",
      "metadata": {
        "id": "O2GvPJ-rmJga",
        "colab_type": "code",
        "colab": {
          "base_uri": "https://localhost:8080/",
          "height": 195
        },
        "outputId": "54be0279-7585-4f55-99d0-14df59c5ebcf"
      },
      "source": [
        "#full_join3.head()"
      ],
      "execution_count": 47,
      "outputs": [
        {
          "output_type": "execute_result",
          "data": {
            "text/html": [
              "<div>\n",
              "<style scoped>\n",
              "    .dataframe tbody tr th:only-of-type {\n",
              "        vertical-align: middle;\n",
              "    }\n",
              "\n",
              "    .dataframe tbody tr th {\n",
              "        vertical-align: top;\n",
              "    }\n",
              "\n",
              "    .dataframe thead th {\n",
              "        text-align: right;\n",
              "    }\n",
              "</style>\n",
              "<table border=\"1\" class=\"dataframe\">\n",
              "  <thead>\n",
              "    <tr style=\"text-align: right;\">\n",
              "      <th></th>\n",
              "      <th>Province/State</th>\n",
              "      <th>Country/Region</th>\n",
              "      <th>Lat</th>\n",
              "      <th>Long</th>\n",
              "      <th>Date</th>\n",
              "      <th>confirmed</th>\n",
              "      <th>Death</th>\n",
              "      <th>Recovered</th>\n",
              "      <th>Month-Year</th>\n",
              "      <th>confirmed-1</th>\n",
              "      <th>Death-1</th>\n",
              "      <th>Recovered-1</th>\n",
              "      <th>Date - 1</th>\n",
              "      <th>Date Minus 1</th>\n",
              "      <th>confirmed Daily</th>\n",
              "    </tr>\n",
              "  </thead>\n",
              "  <tbody>\n",
              "    <tr>\n",
              "      <th>0</th>\n",
              "      <td>Anhui</td>\n",
              "      <td>China</td>\n",
              "      <td>31.8257</td>\n",
              "      <td>117.2264</td>\n",
              "      <td>2020-01-22</td>\n",
              "      <td>1.0</td>\n",
              "      <td>0.0</td>\n",
              "      <td>0.0</td>\n",
              "      <td>Jan-2020</td>\n",
              "      <td>NaN</td>\n",
              "      <td>NaN</td>\n",
              "      <td>NaN</td>\n",
              "      <td>NaT</td>\n",
              "      <td>NaT</td>\n",
              "      <td>NaN</td>\n",
              "    </tr>\n",
              "    <tr>\n",
              "      <th>1</th>\n",
              "      <td>Anhui</td>\n",
              "      <td>China</td>\n",
              "      <td>31.8257</td>\n",
              "      <td>117.2264</td>\n",
              "      <td>2020-01-23</td>\n",
              "      <td>9.0</td>\n",
              "      <td>0.0</td>\n",
              "      <td>0.0</td>\n",
              "      <td>Jan-2020</td>\n",
              "      <td>1.0</td>\n",
              "      <td>0.0</td>\n",
              "      <td>0.0</td>\n",
              "      <td>2020-01-23</td>\n",
              "      <td>2020-01-22</td>\n",
              "      <td>8.0</td>\n",
              "    </tr>\n",
              "    <tr>\n",
              "      <th>2</th>\n",
              "      <td>Anhui</td>\n",
              "      <td>China</td>\n",
              "      <td>31.8257</td>\n",
              "      <td>117.2264</td>\n",
              "      <td>2020-01-24</td>\n",
              "      <td>15.0</td>\n",
              "      <td>0.0</td>\n",
              "      <td>0.0</td>\n",
              "      <td>Jan-2020</td>\n",
              "      <td>9.0</td>\n",
              "      <td>0.0</td>\n",
              "      <td>0.0</td>\n",
              "      <td>2020-01-24</td>\n",
              "      <td>2020-01-23</td>\n",
              "      <td>6.0</td>\n",
              "    </tr>\n",
              "    <tr>\n",
              "      <th>3</th>\n",
              "      <td>Anhui</td>\n",
              "      <td>China</td>\n",
              "      <td>31.8257</td>\n",
              "      <td>117.2264</td>\n",
              "      <td>2020-01-25</td>\n",
              "      <td>39.0</td>\n",
              "      <td>0.0</td>\n",
              "      <td>0.0</td>\n",
              "      <td>Jan-2020</td>\n",
              "      <td>15.0</td>\n",
              "      <td>0.0</td>\n",
              "      <td>0.0</td>\n",
              "      <td>2020-01-25</td>\n",
              "      <td>2020-01-24</td>\n",
              "      <td>24.0</td>\n",
              "    </tr>\n",
              "    <tr>\n",
              "      <th>4</th>\n",
              "      <td>Anhui</td>\n",
              "      <td>China</td>\n",
              "      <td>31.8257</td>\n",
              "      <td>117.2264</td>\n",
              "      <td>2020-01-26</td>\n",
              "      <td>60.0</td>\n",
              "      <td>0.0</td>\n",
              "      <td>0.0</td>\n",
              "      <td>Jan-2020</td>\n",
              "      <td>39.0</td>\n",
              "      <td>0.0</td>\n",
              "      <td>0.0</td>\n",
              "      <td>2020-01-26</td>\n",
              "      <td>2020-01-25</td>\n",
              "      <td>21.0</td>\n",
              "    </tr>\n",
              "  </tbody>\n",
              "</table>\n",
              "</div>"
            ],
            "text/plain": [
              "  Province/State Country/Region      Lat      Long       Date  confirmed  Death  Recovered Month-Year  confirmed-1  Death-1  Recovered-1   Date - 1 Date Minus 1  confirmed Daily\n",
              "0          Anhui          China  31.8257  117.2264 2020-01-22        1.0    0.0        0.0   Jan-2020          NaN      NaN          NaN        NaT          NaT              NaN\n",
              "1          Anhui          China  31.8257  117.2264 2020-01-23        9.0    0.0        0.0   Jan-2020          1.0      0.0          0.0 2020-01-23   2020-01-22              8.0\n",
              "2          Anhui          China  31.8257  117.2264 2020-01-24       15.0    0.0        0.0   Jan-2020          9.0      0.0          0.0 2020-01-24   2020-01-23              6.0\n",
              "3          Anhui          China  31.8257  117.2264 2020-01-25       39.0    0.0        0.0   Jan-2020         15.0      0.0          0.0 2020-01-25   2020-01-24             24.0\n",
              "4          Anhui          China  31.8257  117.2264 2020-01-26       60.0    0.0        0.0   Jan-2020         39.0      0.0          0.0 2020-01-26   2020-01-25             21.0"
            ]
          },
          "metadata": {
            "tags": []
          },
          "execution_count": 47
        }
      ]
    },
    {
      "cell_type": "code",
      "metadata": {
        "id": "s9SjYpGeo32d",
        "colab_type": "code",
        "colab": {}
      },
      "source": [
        "################### Breaking the numbers by Day ##################\n",
        "# Applying it on all dataset\n",
        "full_join2 = full_join.copy()\n",
        "#creating a new df\n",
        "full_join2['Date - 1'] = full_join2['Date'] + pd.Timedelta(days=1)\n",
        "full_join2.rename(columns={'confirmed':'confirmed-1', 'Death':'Death-1', 'Recovered':'Recovered-1','Date':'Date Minus 1'}, inplace=True)"
      ],
      "execution_count": 160,
      "outputs": []
    },
    {
      "cell_type": "code",
      "metadata": {
        "id": "UEKUrYw1q5DY",
        "colab_type": "code",
        "colab": {}
      },
      "source": [
        "full_join3 = full_join.merge(full_join2[['Province/State', 'Country/Region','confirmed-1', 'Death-1', 'Recovered-1','Date - 1','Date Minus 1']],\n",
        "                        how = 'outer',\n",
        "                        left_on=['Province/State', 'Country/Region', 'Date'],\n",
        "                        right_on=['Province/State', 'Country/Region', 'Date - 1'])"
      ],
      "execution_count": 161,
      "outputs": []
    },
    {
      "cell_type": "code",
      "metadata": {
        "id": "G1jssIJBrJv_",
        "colab_type": "code",
        "colab": {
          "base_uri": "https://localhost:8080/",
          "height": 343
        },
        "outputId": "c9bfb9b5-9302-4111-8a96-040f02ef2936"
      },
      "source": [
        "full_join3.head(10)"
      ],
      "execution_count": 162,
      "outputs": [
        {
          "output_type": "execute_result",
          "data": {
            "text/html": [
              "<div>\n",
              "<style scoped>\n",
              "    .dataframe tbody tr th:only-of-type {\n",
              "        vertical-align: middle;\n",
              "    }\n",
              "\n",
              "    .dataframe tbody tr th {\n",
              "        vertical-align: top;\n",
              "    }\n",
              "\n",
              "    .dataframe thead th {\n",
              "        text-align: right;\n",
              "    }\n",
              "</style>\n",
              "<table border=\"1\" class=\"dataframe\">\n",
              "  <thead>\n",
              "    <tr style=\"text-align: right;\">\n",
              "      <th></th>\n",
              "      <th>Province/State</th>\n",
              "      <th>Country/Region</th>\n",
              "      <th>Lat</th>\n",
              "      <th>Long</th>\n",
              "      <th>Date</th>\n",
              "      <th>confirmed</th>\n",
              "      <th>Death</th>\n",
              "      <th>Recovered</th>\n",
              "      <th>Month-Year</th>\n",
              "      <th>confirmed-1</th>\n",
              "      <th>Death-1</th>\n",
              "      <th>Recovered-1</th>\n",
              "      <th>Date - 1</th>\n",
              "      <th>Date Minus 1</th>\n",
              "    </tr>\n",
              "  </thead>\n",
              "  <tbody>\n",
              "    <tr>\n",
              "      <th>0</th>\n",
              "      <td>Afghanistan</td>\n",
              "      <td>Afghanistan</td>\n",
              "      <td>33.0000</td>\n",
              "      <td>65.0000</td>\n",
              "      <td>2020-01-22</td>\n",
              "      <td>0.0</td>\n",
              "      <td>0.0</td>\n",
              "      <td>0.0</td>\n",
              "      <td>Jan-2020</td>\n",
              "      <td>NaN</td>\n",
              "      <td>NaN</td>\n",
              "      <td>NaN</td>\n",
              "      <td>NaT</td>\n",
              "      <td>NaT</td>\n",
              "    </tr>\n",
              "    <tr>\n",
              "      <th>1</th>\n",
              "      <td>Albania</td>\n",
              "      <td>Albania</td>\n",
              "      <td>41.1533</td>\n",
              "      <td>20.1683</td>\n",
              "      <td>2020-01-22</td>\n",
              "      <td>0.0</td>\n",
              "      <td>0.0</td>\n",
              "      <td>0.0</td>\n",
              "      <td>Jan-2020</td>\n",
              "      <td>NaN</td>\n",
              "      <td>NaN</td>\n",
              "      <td>NaN</td>\n",
              "      <td>NaT</td>\n",
              "      <td>NaT</td>\n",
              "    </tr>\n",
              "    <tr>\n",
              "      <th>2</th>\n",
              "      <td>Algeria</td>\n",
              "      <td>Algeria</td>\n",
              "      <td>28.0339</td>\n",
              "      <td>1.6596</td>\n",
              "      <td>2020-01-22</td>\n",
              "      <td>0.0</td>\n",
              "      <td>0.0</td>\n",
              "      <td>0.0</td>\n",
              "      <td>Jan-2020</td>\n",
              "      <td>NaN</td>\n",
              "      <td>NaN</td>\n",
              "      <td>NaN</td>\n",
              "      <td>NaT</td>\n",
              "      <td>NaT</td>\n",
              "    </tr>\n",
              "    <tr>\n",
              "      <th>3</th>\n",
              "      <td>Andorra</td>\n",
              "      <td>Andorra</td>\n",
              "      <td>42.5063</td>\n",
              "      <td>1.5218</td>\n",
              "      <td>2020-01-22</td>\n",
              "      <td>0.0</td>\n",
              "      <td>0.0</td>\n",
              "      <td>0.0</td>\n",
              "      <td>Jan-2020</td>\n",
              "      <td>NaN</td>\n",
              "      <td>NaN</td>\n",
              "      <td>NaN</td>\n",
              "      <td>NaT</td>\n",
              "      <td>NaT</td>\n",
              "    </tr>\n",
              "    <tr>\n",
              "      <th>4</th>\n",
              "      <td>Angola</td>\n",
              "      <td>Angola</td>\n",
              "      <td>-11.2027</td>\n",
              "      <td>17.8739</td>\n",
              "      <td>2020-01-22</td>\n",
              "      <td>0.0</td>\n",
              "      <td>0.0</td>\n",
              "      <td>0.0</td>\n",
              "      <td>Jan-2020</td>\n",
              "      <td>NaN</td>\n",
              "      <td>NaN</td>\n",
              "      <td>NaN</td>\n",
              "      <td>NaT</td>\n",
              "      <td>NaT</td>\n",
              "    </tr>\n",
              "    <tr>\n",
              "      <th>5</th>\n",
              "      <td>Antigua and Barbuda</td>\n",
              "      <td>Antigua and Barbuda</td>\n",
              "      <td>17.0608</td>\n",
              "      <td>-61.7964</td>\n",
              "      <td>2020-01-22</td>\n",
              "      <td>0.0</td>\n",
              "      <td>0.0</td>\n",
              "      <td>0.0</td>\n",
              "      <td>Jan-2020</td>\n",
              "      <td>NaN</td>\n",
              "      <td>NaN</td>\n",
              "      <td>NaN</td>\n",
              "      <td>NaT</td>\n",
              "      <td>NaT</td>\n",
              "    </tr>\n",
              "    <tr>\n",
              "      <th>6</th>\n",
              "      <td>Argentina</td>\n",
              "      <td>Argentina</td>\n",
              "      <td>-38.4161</td>\n",
              "      <td>-63.6167</td>\n",
              "      <td>2020-01-22</td>\n",
              "      <td>0.0</td>\n",
              "      <td>0.0</td>\n",
              "      <td>0.0</td>\n",
              "      <td>Jan-2020</td>\n",
              "      <td>NaN</td>\n",
              "      <td>NaN</td>\n",
              "      <td>NaN</td>\n",
              "      <td>NaT</td>\n",
              "      <td>NaT</td>\n",
              "    </tr>\n",
              "    <tr>\n",
              "      <th>7</th>\n",
              "      <td>Armenia</td>\n",
              "      <td>Armenia</td>\n",
              "      <td>40.0691</td>\n",
              "      <td>45.0382</td>\n",
              "      <td>2020-01-22</td>\n",
              "      <td>0.0</td>\n",
              "      <td>0.0</td>\n",
              "      <td>0.0</td>\n",
              "      <td>Jan-2020</td>\n",
              "      <td>NaN</td>\n",
              "      <td>NaN</td>\n",
              "      <td>NaN</td>\n",
              "      <td>NaT</td>\n",
              "      <td>NaT</td>\n",
              "    </tr>\n",
              "    <tr>\n",
              "      <th>8</th>\n",
              "      <td>Australian Capital Territory</td>\n",
              "      <td>Australia</td>\n",
              "      <td>-35.4735</td>\n",
              "      <td>149.0124</td>\n",
              "      <td>2020-01-22</td>\n",
              "      <td>0.0</td>\n",
              "      <td>0.0</td>\n",
              "      <td>0.0</td>\n",
              "      <td>Jan-2020</td>\n",
              "      <td>NaN</td>\n",
              "      <td>NaN</td>\n",
              "      <td>NaN</td>\n",
              "      <td>NaT</td>\n",
              "      <td>NaT</td>\n",
              "    </tr>\n",
              "    <tr>\n",
              "      <th>9</th>\n",
              "      <td>New South Wales</td>\n",
              "      <td>Australia</td>\n",
              "      <td>-33.8688</td>\n",
              "      <td>151.2093</td>\n",
              "      <td>2020-01-22</td>\n",
              "      <td>0.0</td>\n",
              "      <td>0.0</td>\n",
              "      <td>0.0</td>\n",
              "      <td>Jan-2020</td>\n",
              "      <td>NaN</td>\n",
              "      <td>NaN</td>\n",
              "      <td>NaN</td>\n",
              "      <td>NaT</td>\n",
              "      <td>NaT</td>\n",
              "    </tr>\n",
              "  </tbody>\n",
              "</table>\n",
              "</div>"
            ],
            "text/plain": [
              "                 Province/State       Country/Region      Lat      Long       Date  confirmed  Death  Recovered Month-Year  confirmed-1  Death-1  Recovered-1 Date - 1 Date Minus 1\n",
              "0                   Afghanistan          Afghanistan  33.0000   65.0000 2020-01-22        0.0    0.0        0.0   Jan-2020          NaN      NaN          NaN      NaT          NaT\n",
              "1                       Albania              Albania  41.1533   20.1683 2020-01-22        0.0    0.0        0.0   Jan-2020          NaN      NaN          NaN      NaT          NaT\n",
              "2                       Algeria              Algeria  28.0339    1.6596 2020-01-22        0.0    0.0        0.0   Jan-2020          NaN      NaN          NaN      NaT          NaT\n",
              "3                       Andorra              Andorra  42.5063    1.5218 2020-01-22        0.0    0.0        0.0   Jan-2020          NaN      NaN          NaN      NaT          NaT\n",
              "4                        Angola               Angola -11.2027   17.8739 2020-01-22        0.0    0.0        0.0   Jan-2020          NaN      NaN          NaN      NaT          NaT\n",
              "5           Antigua and Barbuda  Antigua and Barbuda  17.0608  -61.7964 2020-01-22        0.0    0.0        0.0   Jan-2020          NaN      NaN          NaN      NaT          NaT\n",
              "6                     Argentina            Argentina -38.4161  -63.6167 2020-01-22        0.0    0.0        0.0   Jan-2020          NaN      NaN          NaN      NaT          NaT\n",
              "7                       Armenia              Armenia  40.0691   45.0382 2020-01-22        0.0    0.0        0.0   Jan-2020          NaN      NaN          NaN      NaT          NaT\n",
              "8  Australian Capital Territory            Australia -35.4735  149.0124 2020-01-22        0.0    0.0        0.0   Jan-2020          NaN      NaN          NaN      NaT          NaT\n",
              "9               New South Wales            Australia -33.8688  151.2093 2020-01-22        0.0    0.0        0.0   Jan-2020          NaN      NaN          NaN      NaT          NaT"
            ]
          },
          "metadata": {
            "tags": []
          },
          "execution_count": 162
        }
      ]
    },
    {
      "cell_type": "code",
      "metadata": {
        "id": "MniCCCzJruXo",
        "colab_type": "code",
        "colab": {
          "base_uri": "https://localhost:8080/",
          "height": 34
        },
        "outputId": "f492b6e6-5f2c-48ff-d415-98a43e29ca5c"
      },
      "source": [
        "full_join3['Confirmed Daily'] = full_join3['confirmed'] - full_join3['confirmed-1']\n",
        "full_join3['Death Daily'] = full_join3['Death'] - full_join3['Death-1']\n",
        "full_join3['Recovered Daily'] = full_join3['Recovered'] - full_join3['Recovered-1']\n",
        "\n",
        "print(full_join3.shape)"
      ],
      "execution_count": 163,
      "outputs": [
        {
          "output_type": "stream",
          "text": [
            "(51680, 17)\n"
          ],
          "name": "stdout"
        }
      ]
    },
    {
      "cell_type": "code",
      "metadata": {
        "id": "p7YP7QDosiXY",
        "colab_type": "code",
        "colab": {
          "base_uri": "https://localhost:8080/",
          "height": 296
        },
        "outputId": "2ced038f-6fa0-4476-ec9c-d2566206d28f"
      },
      "source": [
        "full_join3.head()"
      ],
      "execution_count": 164,
      "outputs": [
        {
          "output_type": "execute_result",
          "data": {
            "text/html": [
              "<div>\n",
              "<style scoped>\n",
              "    .dataframe tbody tr th:only-of-type {\n",
              "        vertical-align: middle;\n",
              "    }\n",
              "\n",
              "    .dataframe tbody tr th {\n",
              "        vertical-align: top;\n",
              "    }\n",
              "\n",
              "    .dataframe thead th {\n",
              "        text-align: right;\n",
              "    }\n",
              "</style>\n",
              "<table border=\"1\" class=\"dataframe\">\n",
              "  <thead>\n",
              "    <tr style=\"text-align: right;\">\n",
              "      <th></th>\n",
              "      <th>Province/State</th>\n",
              "      <th>Country/Region</th>\n",
              "      <th>Lat</th>\n",
              "      <th>Long</th>\n",
              "      <th>Date</th>\n",
              "      <th>confirmed</th>\n",
              "      <th>Death</th>\n",
              "      <th>Recovered</th>\n",
              "      <th>Month-Year</th>\n",
              "      <th>confirmed-1</th>\n",
              "      <th>Death-1</th>\n",
              "      <th>Recovered-1</th>\n",
              "      <th>Date - 1</th>\n",
              "      <th>Date Minus 1</th>\n",
              "      <th>Confirmed Daily</th>\n",
              "      <th>Death Daily</th>\n",
              "      <th>Recovered Daily</th>\n",
              "    </tr>\n",
              "  </thead>\n",
              "  <tbody>\n",
              "    <tr>\n",
              "      <th>0</th>\n",
              "      <td>Afghanistan</td>\n",
              "      <td>Afghanistan</td>\n",
              "      <td>33.0000</td>\n",
              "      <td>65.0000</td>\n",
              "      <td>2020-01-22</td>\n",
              "      <td>0.0</td>\n",
              "      <td>0.0</td>\n",
              "      <td>0.0</td>\n",
              "      <td>Jan-2020</td>\n",
              "      <td>NaN</td>\n",
              "      <td>NaN</td>\n",
              "      <td>NaN</td>\n",
              "      <td>NaT</td>\n",
              "      <td>NaT</td>\n",
              "      <td>NaN</td>\n",
              "      <td>NaN</td>\n",
              "      <td>NaN</td>\n",
              "    </tr>\n",
              "    <tr>\n",
              "      <th>1</th>\n",
              "      <td>Albania</td>\n",
              "      <td>Albania</td>\n",
              "      <td>41.1533</td>\n",
              "      <td>20.1683</td>\n",
              "      <td>2020-01-22</td>\n",
              "      <td>0.0</td>\n",
              "      <td>0.0</td>\n",
              "      <td>0.0</td>\n",
              "      <td>Jan-2020</td>\n",
              "      <td>NaN</td>\n",
              "      <td>NaN</td>\n",
              "      <td>NaN</td>\n",
              "      <td>NaT</td>\n",
              "      <td>NaT</td>\n",
              "      <td>NaN</td>\n",
              "      <td>NaN</td>\n",
              "      <td>NaN</td>\n",
              "    </tr>\n",
              "    <tr>\n",
              "      <th>2</th>\n",
              "      <td>Algeria</td>\n",
              "      <td>Algeria</td>\n",
              "      <td>28.0339</td>\n",
              "      <td>1.6596</td>\n",
              "      <td>2020-01-22</td>\n",
              "      <td>0.0</td>\n",
              "      <td>0.0</td>\n",
              "      <td>0.0</td>\n",
              "      <td>Jan-2020</td>\n",
              "      <td>NaN</td>\n",
              "      <td>NaN</td>\n",
              "      <td>NaN</td>\n",
              "      <td>NaT</td>\n",
              "      <td>NaT</td>\n",
              "      <td>NaN</td>\n",
              "      <td>NaN</td>\n",
              "      <td>NaN</td>\n",
              "    </tr>\n",
              "    <tr>\n",
              "      <th>3</th>\n",
              "      <td>Andorra</td>\n",
              "      <td>Andorra</td>\n",
              "      <td>42.5063</td>\n",
              "      <td>1.5218</td>\n",
              "      <td>2020-01-22</td>\n",
              "      <td>0.0</td>\n",
              "      <td>0.0</td>\n",
              "      <td>0.0</td>\n",
              "      <td>Jan-2020</td>\n",
              "      <td>NaN</td>\n",
              "      <td>NaN</td>\n",
              "      <td>NaN</td>\n",
              "      <td>NaT</td>\n",
              "      <td>NaT</td>\n",
              "      <td>NaN</td>\n",
              "      <td>NaN</td>\n",
              "      <td>NaN</td>\n",
              "    </tr>\n",
              "    <tr>\n",
              "      <th>4</th>\n",
              "      <td>Angola</td>\n",
              "      <td>Angola</td>\n",
              "      <td>-11.2027</td>\n",
              "      <td>17.8739</td>\n",
              "      <td>2020-01-22</td>\n",
              "      <td>0.0</td>\n",
              "      <td>0.0</td>\n",
              "      <td>0.0</td>\n",
              "      <td>Jan-2020</td>\n",
              "      <td>NaN</td>\n",
              "      <td>NaN</td>\n",
              "      <td>NaN</td>\n",
              "      <td>NaT</td>\n",
              "      <td>NaT</td>\n",
              "      <td>NaN</td>\n",
              "      <td>NaN</td>\n",
              "      <td>NaN</td>\n",
              "    </tr>\n",
              "  </tbody>\n",
              "</table>\n",
              "</div>"
            ],
            "text/plain": [
              "  Province/State Country/Region      Lat     Long       Date  confirmed  Death  Recovered Month-Year  confirmed-1  Death-1  Recovered-1 Date - 1 Date Minus 1  Confirmed Daily  Death Daily  Recovered Daily\n",
              "0    Afghanistan    Afghanistan  33.0000  65.0000 2020-01-22        0.0    0.0        0.0   Jan-2020          NaN      NaN          NaN      NaT          NaT              NaN          NaN              NaN\n",
              "1        Albania        Albania  41.1533  20.1683 2020-01-22        0.0    0.0        0.0   Jan-2020          NaN      NaN          NaN      NaT          NaT              NaN          NaN              NaN\n",
              "2        Algeria        Algeria  28.0339   1.6596 2020-01-22        0.0    0.0        0.0   Jan-2020          NaN      NaN          NaN      NaT          NaT              NaN          NaN              NaN\n",
              "3        Andorra        Andorra  42.5063   1.5218 2020-01-22        0.0    0.0        0.0   Jan-2020          NaN      NaN          NaN      NaT          NaT              NaN          NaN              NaN\n",
              "4         Angola         Angola -11.2027  17.8739 2020-01-22        0.0    0.0        0.0   Jan-2020          NaN      NaN          NaN      NaT          NaT              NaN          NaN              NaN"
            ]
          },
          "metadata": {
            "tags": []
          },
          "execution_count": 164
        }
      ]
    },
    {
      "cell_type": "code",
      "metadata": {
        "id": "O0afkrlzvhwC",
        "colab_type": "code",
        "colab": {
          "base_uri": "https://localhost:8080/",
          "height": 101
        },
        "outputId": "080d635a-f095-43eb-b9fa-eb23e2a05162"
      },
      "source": [
        "#Adding manually the numbers for first day\n",
        "full_join3['Confirmed Daily'].loc[full_join3['Date'] == '2020-01-22'] = full_join3['confirmed']\n",
        "full_join3['Death Daily'].loc[full_join3['Date'] == '2020-01-22'] = full_join3['Death']\n",
        "full_join3['Recovered Daily'].loc[full_join3['Date'] == '2020-01-22'] = full_join3['Recovered']"
      ],
      "execution_count": 165,
      "outputs": [
        {
          "output_type": "stream",
          "text": [
            "/usr/local/lib/python3.6/dist-packages/pandas/core/indexing.py:671: SettingWithCopyWarning: \n",
            "A value is trying to be set on a copy of a slice from a DataFrame\n",
            "\n",
            "See the caveats in the documentation: https://pandas.pydata.org/pandas-docs/stable/user_guide/indexing.html#returning-a-view-versus-a-copy\n",
            "  self._setitem_with_indexer(indexer, value)\n"
          ],
          "name": "stderr"
        }
      ]
    },
    {
      "cell_type": "code",
      "metadata": {
        "id": "iyIJX1eAw2pE",
        "colab_type": "code",
        "colab": {}
      },
      "source": [
        "#deleting columns\n",
        "del full_join3['confirmed-1']\n",
        "del full_join3['Death-1']\n",
        "del full_join3['Recovered-1']\n",
        "del full_join3['Date - 1']\n",
        "del full_join3['Date Minus 1']"
      ],
      "execution_count": 166,
      "outputs": []
    },
    {
      "cell_type": "code",
      "metadata": {
        "id": "bJOtdsB3xtbn",
        "colab_type": "code",
        "colab": {
          "base_uri": "https://localhost:8080/",
          "height": 195
        },
        "outputId": "acc9763b-023d-4002-b7d5-2cce89d715c3"
      },
      "source": [
        "full_join3.head()"
      ],
      "execution_count": 167,
      "outputs": [
        {
          "output_type": "execute_result",
          "data": {
            "text/html": [
              "<div>\n",
              "<style scoped>\n",
              "    .dataframe tbody tr th:only-of-type {\n",
              "        vertical-align: middle;\n",
              "    }\n",
              "\n",
              "    .dataframe tbody tr th {\n",
              "        vertical-align: top;\n",
              "    }\n",
              "\n",
              "    .dataframe thead th {\n",
              "        text-align: right;\n",
              "    }\n",
              "</style>\n",
              "<table border=\"1\" class=\"dataframe\">\n",
              "  <thead>\n",
              "    <tr style=\"text-align: right;\">\n",
              "      <th></th>\n",
              "      <th>Province/State</th>\n",
              "      <th>Country/Region</th>\n",
              "      <th>Lat</th>\n",
              "      <th>Long</th>\n",
              "      <th>Date</th>\n",
              "      <th>confirmed</th>\n",
              "      <th>Death</th>\n",
              "      <th>Recovered</th>\n",
              "      <th>Month-Year</th>\n",
              "      <th>Confirmed Daily</th>\n",
              "      <th>Death Daily</th>\n",
              "      <th>Recovered Daily</th>\n",
              "    </tr>\n",
              "  </thead>\n",
              "  <tbody>\n",
              "    <tr>\n",
              "      <th>0</th>\n",
              "      <td>Afghanistan</td>\n",
              "      <td>Afghanistan</td>\n",
              "      <td>33.0000</td>\n",
              "      <td>65.0000</td>\n",
              "      <td>2020-01-22</td>\n",
              "      <td>0.0</td>\n",
              "      <td>0.0</td>\n",
              "      <td>0.0</td>\n",
              "      <td>Jan-2020</td>\n",
              "      <td>0.0</td>\n",
              "      <td>0.0</td>\n",
              "      <td>0.0</td>\n",
              "    </tr>\n",
              "    <tr>\n",
              "      <th>1</th>\n",
              "      <td>Albania</td>\n",
              "      <td>Albania</td>\n",
              "      <td>41.1533</td>\n",
              "      <td>20.1683</td>\n",
              "      <td>2020-01-22</td>\n",
              "      <td>0.0</td>\n",
              "      <td>0.0</td>\n",
              "      <td>0.0</td>\n",
              "      <td>Jan-2020</td>\n",
              "      <td>0.0</td>\n",
              "      <td>0.0</td>\n",
              "      <td>0.0</td>\n",
              "    </tr>\n",
              "    <tr>\n",
              "      <th>2</th>\n",
              "      <td>Algeria</td>\n",
              "      <td>Algeria</td>\n",
              "      <td>28.0339</td>\n",
              "      <td>1.6596</td>\n",
              "      <td>2020-01-22</td>\n",
              "      <td>0.0</td>\n",
              "      <td>0.0</td>\n",
              "      <td>0.0</td>\n",
              "      <td>Jan-2020</td>\n",
              "      <td>0.0</td>\n",
              "      <td>0.0</td>\n",
              "      <td>0.0</td>\n",
              "    </tr>\n",
              "    <tr>\n",
              "      <th>3</th>\n",
              "      <td>Andorra</td>\n",
              "      <td>Andorra</td>\n",
              "      <td>42.5063</td>\n",
              "      <td>1.5218</td>\n",
              "      <td>2020-01-22</td>\n",
              "      <td>0.0</td>\n",
              "      <td>0.0</td>\n",
              "      <td>0.0</td>\n",
              "      <td>Jan-2020</td>\n",
              "      <td>0.0</td>\n",
              "      <td>0.0</td>\n",
              "      <td>0.0</td>\n",
              "    </tr>\n",
              "    <tr>\n",
              "      <th>4</th>\n",
              "      <td>Angola</td>\n",
              "      <td>Angola</td>\n",
              "      <td>-11.2027</td>\n",
              "      <td>17.8739</td>\n",
              "      <td>2020-01-22</td>\n",
              "      <td>0.0</td>\n",
              "      <td>0.0</td>\n",
              "      <td>0.0</td>\n",
              "      <td>Jan-2020</td>\n",
              "      <td>0.0</td>\n",
              "      <td>0.0</td>\n",
              "      <td>0.0</td>\n",
              "    </tr>\n",
              "  </tbody>\n",
              "</table>\n",
              "</div>"
            ],
            "text/plain": [
              "  Province/State Country/Region      Lat     Long       Date  confirmed  Death  Recovered Month-Year  Confirmed Daily  Death Daily  Recovered Daily\n",
              "0    Afghanistan    Afghanistan  33.0000  65.0000 2020-01-22        0.0    0.0        0.0   Jan-2020              0.0          0.0              0.0\n",
              "1        Albania        Albania  41.1533  20.1683 2020-01-22        0.0    0.0        0.0   Jan-2020              0.0          0.0              0.0\n",
              "2        Algeria        Algeria  28.0339   1.6596 2020-01-22        0.0    0.0        0.0   Jan-2020              0.0          0.0              0.0\n",
              "3        Andorra        Andorra  42.5063   1.5218 2020-01-22        0.0    0.0        0.0   Jan-2020              0.0          0.0              0.0\n",
              "4         Angola         Angola -11.2027  17.8739 2020-01-22        0.0    0.0        0.0   Jan-2020              0.0          0.0              0.0"
            ]
          },
          "metadata": {
            "tags": []
          },
          "execution_count": 167
        }
      ]
    },
    {
      "cell_type": "code",
      "metadata": {
        "id": "gSGf8mB-xwsz",
        "colab_type": "code",
        "colab": {}
      },
      "source": [
        "#Creating additional slicer for easy of use\n"
      ],
      "execution_count": null,
      "outputs": []
    }
  ]
}